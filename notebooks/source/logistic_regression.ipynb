{
 "cells": [
  {
   "cell_type": "markdown",
   "metadata": {},
   "source": [
    "# Benchmark NumPyro in large dataset"
   ]
  },
  {
   "cell_type": "markdown",
   "metadata": {},
   "source": [
    "This notebook uses `numpyro` and replicates experiments in references [1] which evaluates the performance of NUTS on various frameworks. The benchmark is run with CUDA 10.0 on a NVIDIA RTX 2070."
   ]
  },
  {
   "cell_type": "code",
   "execution_count": 1,
   "metadata": {},
   "outputs": [],
   "source": [
    "import time\n",
    "\n",
    "import numpy as onp\n",
    "\n",
    "import jax.numpy as np\n",
    "from jax import random\n",
    "# NB: replace gpu by cpu to run this notebook in cpu\n",
    "from jax.config import config; config.update(\"jax_platform_name\", \"gpu\")\n",
    "\n",
    "import numpyro.distributions as dist\n",
    "from numpyro.diagnostics import summary\n",
    "from numpyro.examples.datasets import COVTYPE, load_dataset\n",
    "from numpyro.handlers import sample\n",
    "from numpyro.hmc_util import initialize_model\n",
    "from numpyro.mcmc import hmc, mcmc\n",
    "from numpyro.util import fori_collect"
   ]
  },
  {
   "cell_type": "markdown",
   "metadata": {},
   "source": [
    "We do preprocessing steps as in [source code](https://github.com/google-research/google-research/blob/master/simple_probabilistic_programming/no_u_turn_sampler/logistic_regression.py) of reference [1]:"
   ]
  },
  {
   "cell_type": "code",
   "execution_count": 2,
   "metadata": {},
   "outputs": [
    {
     "name": "stdout",
     "output_type": "stream",
     "text": [
      "Data shape: (581012, 55)\n",
      "Label distribution: 211840 has label 1, 369172 has label 0\n"
     ]
    }
   ],
   "source": [
    "_, fetch = load_dataset(COVTYPE, shuffle=False)\n",
    "features, labels = fetch()\n",
    "\n",
    "# normalize features and add intercept\n",
    "features = (features - features.mean(0)) / features.std(0)\n",
    "features = np.hstack([features, np.ones((features.shape[0], 1))])\n",
    "\n",
    "# make binary feature\n",
    "_, counts = onp.unique(labels, return_counts=True)\n",
    "specific_category = np.argmax(counts)\n",
    "labels = (labels == specific_category)\n",
    "\n",
    "N, dim = features.shape\n",
    "print(\"Data shape:\", features.shape)\n",
    "print(\"Label distribution: {} has label 1, {} has label 0\"\n",
    "      .format(labels.sum(), N - labels.sum()))"
   ]
  },
  {
   "cell_type": "markdown",
   "metadata": {},
   "source": [
    "Now, we construct the model:"
   ]
  },
  {
   "cell_type": "code",
   "execution_count": 3,
   "metadata": {},
   "outputs": [],
   "source": [
    "def model(data, labels):\n",
    "    coefs = sample('coefs', dist.Normal(np.zeros(dim), np.ones(dim)))\n",
    "    logits = np.dot(data, coefs)\n",
    "    return sample('obs', dist.Bernoulli(logits=logits), obs=labels)"
   ]
  },
  {
   "cell_type": "code",
   "execution_count": 4,
   "metadata": {},
   "outputs": [],
   "source": [
    "step_size = np.sqrt(0.5 / N)\n",
    "init_params = {'coefs': np.zeros(dim)}"
   ]
  },
  {
   "cell_type": "markdown",
   "metadata": {},
   "source": [
    "## Benchmark HMC"
   ]
  },
  {
   "cell_type": "code",
   "execution_count": 5,
   "metadata": {},
   "outputs": [],
   "source": [
    "_, potential_fn, _ = initialize_model(random.PRNGKey(1), model, features, labels)"
   ]
  },
  {
   "cell_type": "code",
   "execution_count": 6,
   "metadata": {},
   "outputs": [
    {
     "name": "stderr",
     "output_type": "stream",
     "text": [
      "warmup: 0it [00:00, ?it/s]\n",
      "sample: 100%|██████████| 1000/1000 [00:40<00:00, 26.43it/s, 10 steps of size 9.28e-04. acc. prob=0.93]"
     ]
    },
    {
     "name": "stdout",
     "output_type": "stream",
     "text": [
      "\n",
      "\n",
      "                           mean         sd       5.5%      94.5%      n_eff       Rhat\n",
      "            coefs[0]       1.97       0.01       1.96       1.99     327.37       1.02\n",
      "            coefs[1]      -0.04       0.01      -0.05      -0.03    1003.13       1.00\n",
      "            coefs[2]      -0.07       0.02      -0.09      -0.04       5.77       1.31\n",
      "            coefs[3]      -0.30       0.01      -0.31      -0.29    3253.70       1.00\n",
      "            coefs[4]      -0.09       0.01      -0.10      -0.09    2783.86       1.00\n",
      "            coefs[5]      -0.14       0.01      -0.15      -0.14    1898.41       1.00\n",
      "            coefs[6]       0.19       0.09       0.11       0.31       5.43       1.32\n",
      "            coefs[7]      -0.63       0.06      -0.70      -0.58       5.52       1.31\n",
      "            coefs[8]       0.52       0.11       0.43       0.66       5.44       1.32\n",
      "            coefs[9]      -0.01       0.01      -0.02      -0.00   -4414.57       1.00\n",
      "           coefs[10]       0.37       0.07       0.25       0.46       4.55       1.37\n",
      "           coefs[11]      -0.06       0.03      -0.12      -0.02       4.71       1.36\n",
      "           coefs[12]       0.06       0.07      -0.07       0.14       4.56       1.37\n",
      "           coefs[13]      -0.94       0.12      -1.08      -0.75       2.82       1.95\n",
      "           coefs[14]       0.04       0.10      -0.15       0.18       4.09       1.56\n",
      "           coefs[15]      -0.53       0.08      -0.67      -0.42       5.11       1.28\n",
      "           coefs[16]      -0.43       0.12      -0.60      -0.23       5.24       1.14\n",
      "           coefs[17]      -0.05       0.03      -0.07      -0.03      66.70       1.04\n",
      "           coefs[18]      -0.17       0.13      -0.31       0.07       3.43       1.50\n",
      "           coefs[19]      -0.49       0.17      -0.77      -0.28       2.78       2.42\n",
      "           coefs[20]      -0.19       0.11      -0.36      -0.06       2.92       2.00\n",
      "           coefs[21]       0.01       0.00       0.00       0.01     153.13       1.02\n",
      "           coefs[22]       0.07       0.01       0.06       0.07      70.25       1.03\n",
      "           coefs[23]       0.09       0.04       0.06       0.12      54.08       1.04\n",
      "           coefs[24]       0.04       0.02       0.02       0.05      51.13       1.05\n",
      "           coefs[25]      -0.08       0.02      -0.11      -0.06      37.56       1.08\n",
      "           coefs[26]       0.02       0.01       0.01       0.04      30.23       1.10\n",
      "           coefs[27]      -0.14       0.06      -0.23      -0.04       7.69       1.17\n",
      "           coefs[28]      -0.08       0.08      -0.23       0.02       4.90       1.38\n",
      "           coefs[29]       0.05       0.01       0.04       0.06      45.08       1.07\n",
      "           coefs[30]       0.05       0.01       0.04       0.06      63.38       1.04\n",
      "           coefs[31]       0.00       0.01      -0.01       0.01      83.56       1.03\n",
      "           coefs[32]       0.08       0.01       0.06       0.09      47.91       1.06\n",
      "           coefs[33]       0.14       0.01       0.13       0.15      26.70       1.11\n",
      "           coefs[34]       0.14       0.01       0.13       0.16     285.16       1.00\n",
      "           coefs[35]       0.32       0.03       0.30       0.35     107.98       1.02\n",
      "           coefs[36]       0.32       0.02       0.28       0.34      23.44       1.13\n",
      "           coefs[37]       0.16       0.01       0.14       0.17      22.94       1.11\n",
      "           coefs[38]      -0.02       0.01      -0.03      -0.01     383.32       1.01\n",
      "           coefs[39]       0.01       0.01       0.00       0.02      48.78       1.05\n",
      "           coefs[40]       0.05       0.01       0.04       0.06     122.14       1.02\n",
      "           coefs[41]      -0.01       0.01      -0.02      -0.00     175.05       1.03\n",
      "           coefs[42]       0.02       0.03      -0.02       0.05      17.97       1.16\n",
      "           coefs[43]      -0.02       0.02      -0.04       0.00      33.50       1.08\n",
      "           coefs[44]       0.16       0.02       0.13       0.19      51.30       1.05\n",
      "           coefs[45]       0.09       0.02       0.06       0.12      32.44       1.09\n",
      "           coefs[46]       0.20       0.02       0.17       0.22      28.96       1.10\n",
      "           coefs[47]      -0.07       0.01      -0.08      -0.06      98.33       1.04\n",
      "           coefs[48]      -0.08       0.01      -0.09      -0.07      55.15       1.05\n",
      "           coefs[49]      -0.03       0.00      -0.03      -0.02     394.88       1.01\n",
      "           coefs[50]      -0.28       0.06      -0.37      -0.17       9.20       1.05\n",
      "           coefs[51]      -0.12       0.01      -0.14      -0.11      22.07       1.15\n",
      "           coefs[52]      -0.12       0.02      -0.14      -0.10      76.28       1.04\n",
      "           coefs[53]      -0.16       0.01      -0.18      -0.15      28.68       1.11\n",
      "           coefs[54]      -1.46       0.05      -1.51      -1.38       3.53       1.81\n",
      "number of leapfrog steps: 10000\n",
      "avg. time for each step : 0.004272571754455567\n"
     ]
    },
    {
     "name": "stderr",
     "output_type": "stream",
     "text": [
      "\n"
     ]
    }
   ],
   "source": [
    "t0 = time.time()\n",
    "samples = mcmc(num_warmup=0, num_samples=1000, init_params=init_params, potential_fn=potential_fn,\n",
    "               algo='HMC', step_size=step_size, trajectory_length=(10 * step_size),\n",
    "               adapt_step_size=False)\n",
    "t1 = time.time()\n",
    "num_leapfrogs = 1000 * 10\n",
    "print(\"number of leapfrog steps:\", num_leapfrogs)\n",
    "print(\"avg. time for each step :\", (t1 - t0) / 10000)"
   ]
  },
  {
   "cell_type": "markdown",
   "metadata": {},
   "source": [
    "In CPU, we get `avg. time for each step : 0.03028029832839966`."
   ]
  },
  {
   "cell_type": "markdown",
   "metadata": {},
   "source": [
    "## Benchmark NUTS"
   ]
  },
  {
   "cell_type": "markdown",
   "metadata": {},
   "source": [
    "To have a fair benchmark in NUTS, we need to record the number of leapfrog steps during sampling. Hence we will use the api [hmc](https://numpyro.readthedocs.io/en/latest/mcmc.html#numpyro.mcmc.hmc) and `fori_collect`."
   ]
  },
  {
   "cell_type": "code",
   "execution_count": 7,
   "metadata": {},
   "outputs": [
    {
     "name": "stderr",
     "output_type": "stream",
     "text": [
      "warmup: 0it [00:00, ?it/s]\n"
     ]
    }
   ],
   "source": [
    "_, potential_fn, _ = initialize_model(random.PRNGKey(1), model, features, labels)\n",
    "init_kernel, sample_kernel = hmc(potential_fn, algo='NUTS')\n",
    "hmc_state = init_kernel(init_params, num_warmup=0, step_size=step_size, adapt_step_size=False)"
   ]
  },
  {
   "cell_type": "code",
   "execution_count": 8,
   "metadata": {},
   "outputs": [
    {
     "name": "stderr",
     "output_type": "stream",
     "text": [
      "100%|██████████| 100/100 [05:00<00:00,  3.31s/it]\n"
     ]
    },
    {
     "name": "stdout",
     "output_type": "stream",
     "text": [
      "\n",
      "\n",
      "                           mean         sd       5.5%      94.5%      n_eff       Rhat\n",
      "            coefs[0]       1.86       0.37       1.72       2.00      10.49       1.10\n",
      "            coefs[1]      -0.04       0.01      -0.06      -0.03      21.48       1.00\n",
      "            coefs[2]      -0.07       0.03      -0.12      -0.04       9.70       1.11\n",
      "            coefs[3]      -0.28       0.07      -0.31      -0.25      10.50       1.10\n",
      "            coefs[4]      -0.09       0.01      -0.10      -0.08      27.55       1.00\n",
      "            coefs[5]      -0.13       0.06      -0.15      -0.11      10.55       1.10\n",
      "            coefs[6]       0.17       0.16      -0.18       0.29       5.04       1.28\n",
      "            coefs[7]      -0.58       0.17      -0.72      -0.34       5.29       1.24\n",
      "            coefs[8]       0.47       0.22       0.06       0.69       4.68       1.30\n",
      "            coefs[9]      -0.01       0.01      -0.02      -0.01      45.16       1.00\n",
      "           coefs[10]       0.81       0.49       0.06       1.42       7.40       1.19\n",
      "           coefs[11]       0.15       0.19      -0.12       0.40      12.36       1.13\n",
      "           coefs[12]       0.50       0.46      -0.09       1.09       8.42       1.17\n",
      "           coefs[13]      -1.17       0.71      -2.11      -0.14       5.96       1.35\n",
      "           coefs[14]      -0.60       0.65      -1.54       0.24       6.90       1.52\n",
      "           coefs[15]      -0.88       0.59      -1.81      -0.07       9.30       1.01\n",
      "           coefs[16]      -0.98       0.81      -1.84      -0.05      12.45       1.09\n",
      "           coefs[17]      -0.05       0.14      -0.21       0.19      11.53       1.01\n",
      "           coefs[18]      -0.45       0.48      -1.46       0.05      13.30       1.15\n",
      "           coefs[19]      -0.42       0.58      -1.42       0.25      13.41       1.03\n",
      "           coefs[20]      -1.04       0.93      -2.58      -0.01       5.62       1.00\n",
      "           coefs[21]       0.01       0.02      -0.02       0.03      11.85       1.01\n",
      "           coefs[22]       0.06       0.05      -0.03       0.11      10.93       0.99\n",
      "           coefs[23]       0.08       0.22      -0.19       0.46      10.37       0.99\n",
      "           coefs[24]       0.03       0.14      -0.13       0.28      11.10       1.00\n",
      "           coefs[25]      -0.07       0.20      -0.30       0.29      11.83       1.02\n",
      "           coefs[26]       0.03       0.15      -0.15       0.30      11.75       1.02\n",
      "           coefs[27]      -0.55       0.48      -1.25      -0.01      11.43       1.06\n",
      "           coefs[28]      -0.30       0.30      -0.75       0.03      13.33       1.14\n",
      "           coefs[29]       0.05       0.07      -0.03       0.17      11.89       1.01\n",
      "           coefs[30]       0.05       0.07      -0.05       0.18      10.71       1.00\n",
      "           coefs[31]       0.00       0.05      -0.07       0.09      10.81       1.01\n",
      "           coefs[32]       0.08       0.07      -0.00       0.22      11.99       1.04\n",
      "           coefs[33]       0.14       0.12       0.01       0.35      11.83       1.01\n",
      "           coefs[34]       0.14       0.04       0.09       0.22      14.11       1.00\n",
      "           coefs[35]       0.34       0.21       0.09       0.71      12.28       1.04\n",
      "           coefs[36]       0.33       0.27       0.02       0.82      12.17       1.04\n",
      "           coefs[37]       0.17       0.17      -0.03       0.47      12.13       1.04\n",
      "           coefs[38]      -0.01       0.03      -0.05       0.03      12.49       1.05\n",
      "           coefs[39]       0.01       0.06      -0.06       0.12      11.72       1.02\n",
      "           coefs[40]       0.05       0.04       0.00       0.12      12.18       1.03\n",
      "           coefs[41]      -0.01       0.04      -0.06       0.05      11.41       1.01\n",
      "           coefs[42]       0.05       0.35      -0.37       0.69      12.14       1.05\n",
      "           coefs[43]      -0.00       0.20      -0.24       0.36      12.06       1.04\n",
      "           coefs[44]       0.17       0.18      -0.04       0.50      12.09       1.03\n",
      "           coefs[45]       0.11       0.25      -0.19       0.57      12.14       1.04\n",
      "           coefs[46]       0.21       0.24      -0.06       0.64      11.97       1.03\n",
      "           coefs[47]      -0.07       0.05      -0.13       0.01      12.74       1.07\n",
      "           coefs[48]      -0.07       0.05      -0.14       0.02      12.51       1.12\n",
      "           coefs[49]      -0.03       0.01      -0.04      -0.00      15.81       1.07\n",
      "           coefs[50]      -0.55       0.40      -1.05      -0.02      19.81       1.06\n",
      "           coefs[51]      -0.10       0.15      -0.29       0.14      12.47       1.11\n",
      "           coefs[52]      -0.09       0.14      -0.27       0.14      12.51       1.11\n",
      "           coefs[53]      -0.14       0.12      -0.28       0.04      12.64       1.13\n",
      "           coefs[54]      -1.71       0.49      -2.31      -1.10       4.96       1.30\n",
      "           num_steps     640.26     456.14       7.00    1023.00       7.09       1.23\n",
      "number of leapfrog steps: 64026\n",
      "avg. time for each step : 0.004700204475792964\n"
     ]
    }
   ],
   "source": [
    "t0 = time.time()\n",
    "hmc_states = fori_collect(100, sample_kernel, hmc_state,\n",
    "                          transform=lambda state: {'coefs': state.z['coefs'],\n",
    "                                                   'num_steps': state.num_steps})\n",
    "t1 = time.time()\n",
    "summary(hmc_states)\n",
    "num_leapfrogs = np.sum(hmc_states['num_steps']).copy()\n",
    "print(\"number of leapfrog steps:\", num_leapfrogs)\n",
    "print(\"avg. time for each step :\", (t1 - t0) / num_leapfrogs)"
   ]
  },
  {
   "cell_type": "markdown",
   "metadata": {},
   "source": [
    "In CPU, we get `avg. time for each step : 0.029775922484157266`."
   ]
  },
  {
   "cell_type": "markdown",
   "metadata": {},
   "source": [
    "### Average time for each leapfrog (verlet) step"
   ]
  },
  {
   "cell_type": "markdown",
   "metadata": {},
   "source": [
    "|               |    HMC    |    NUTS   |\n",
    "| ------------- |:---------:|:---------:|\n",
    "| Edward2 (CPU) |           |  68.4 ms  |\n",
    "| Edward2 (GPU) |           |   9.7 ms  |\n",
    "| NumPyro (CPU) |  30.3 ms  |  29.8 ms  |\n",
    "| NumPyro (GPU) |   4.3 ms  |   4.7 ms  |\n",
    "\n",
    "*Note:* Edward 2 results are obtained from reference [1], which is run under a different environment system."
   ]
  },
  {
   "cell_type": "markdown",
   "metadata": {},
   "source": [
    "**Some takeaways:**\n",
    "+ The overhead of iterative NUTS is small. So most of computation time is indeed spent for evaluating potential function and its gradient.\n",
    "+ GPU outperforms CPU by a large margin. The data is large, so evaluating potential function in GPU is clearly faster than doing so in CPU.\n",
    "+ Iterative NUTS is 2.2x faster (in both GPU and CPU) than the reported speed in reference [2]. This illustates the benefit of a graph-mode (using iterative algorithm) over an eager-mode (using recursive algorithm)."
   ]
  },
  {
   "cell_type": "markdown",
   "metadata": {},
   "source": [
    "## References\n",
    "\n",
    "1. `Simple, Distributed, and Accelerated Probabilistic Programming,` [arxiv](https://arxiv.org/abs/1811.02091)<br>\n",
    "Dustin Tran, Matthew D. Hoffman, Dave Moore, Christopher Suter, Srinivas Vasudevan, Alexey Radul, Matthew Johnson, Rif A. Saurous"
   ]
  }
 ],
 "metadata": {
  "kernelspec": {
   "display_name": "Python (pydata)",
   "language": "python",
   "name": "pydata"
  },
  "language_info": {
   "codemirror_mode": {
    "name": "ipython",
    "version": 3
   },
   "file_extension": ".py",
   "mimetype": "text/x-python",
   "name": "python",
   "nbconvert_exporter": "python",
   "pygments_lexer": "ipython3",
   "version": "3.6.8"
  }
 },
 "nbformat": 4,
 "nbformat_minor": 2
}
