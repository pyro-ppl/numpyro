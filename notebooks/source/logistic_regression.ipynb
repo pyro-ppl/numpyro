{
 "cells": [
  {
   "cell_type": "markdown",
   "metadata": {},
   "source": [
    "# Benchmark NumPyro in large dataset"
   ]
  },
  {
   "cell_type": "markdown",
   "metadata": {},
   "source": [
    "This notebook uses `numpyro` and replicates experiments in references [1] which evaluates the performance of NUTS on various frameworks. The benchmark is run with CUDA 10.0 on a NVIDIA RTX 2070."
   ]
  },
  {
   "cell_type": "code",
   "execution_count": 1,
   "metadata": {},
   "outputs": [],
   "source": [
    "import time\n",
    "\n",
    "import numpy as onp\n",
    "\n",
    "import jax.numpy as np\n",
    "from jax import random\n",
    "\n",
    "import numpyro\n",
    "import numpyro.distributions as dist\n",
    "from numpyro.examples.datasets import COVTYPE, load_dataset\n",
    "from numpyro.infer import HMC, MCMC, NUTS\n",
    "assert numpyro.__version__.startswith('0.2.1')\n",
    "\n",
    "# NB: replace gpu by cpu to run this notebook in cpu\n",
    "numpyro.set_platform(\"gpu\")"
   ]
  },
  {
   "cell_type": "markdown",
   "metadata": {},
   "source": [
    "We do preprocessing steps as in [source code](https://github.com/google-research/google-research/blob/master/simple_probabilistic_programming/no_u_turn_sampler/logistic_regression.py) of reference [1]:"
   ]
  },
  {
   "cell_type": "code",
   "execution_count": 2,
   "metadata": {},
   "outputs": [
    {
     "name": "stdout",
     "output_type": "stream",
     "text": [
      "Data shape: (581012, 55)\n",
      "Label distribution: 211840 has label 1, 369172 has label 0\n"
     ]
    }
   ],
   "source": [
    "_, fetch = load_dataset(COVTYPE, shuffle=False)\n",
    "features, labels = fetch()\n",
    "\n",
    "# normalize features and add intercept\n",
    "features = (features - features.mean(0)) / features.std(0)\n",
    "features = np.hstack([features, np.ones((features.shape[0], 1))])\n",
    "\n",
    "# make binary feature\n",
    "_, counts = onp.unique(labels, return_counts=True)\n",
    "specific_category = np.argmax(counts)\n",
    "labels = (labels == specific_category)\n",
    "\n",
    "N, dim = features.shape\n",
    "print(\"Data shape:\", features.shape)\n",
    "print(\"Label distribution: {} has label 1, {} has label 0\"\n",
    "      .format(labels.sum(), N - labels.sum()))"
   ]
  },
  {
   "cell_type": "markdown",
   "metadata": {},
   "source": [
    "Now, we construct the model:"
   ]
  },
  {
   "cell_type": "code",
   "execution_count": 3,
   "metadata": {},
   "outputs": [],
   "source": [
    "def model(data, labels):\n",
    "    coefs = numpyro.sample('coefs', dist.Normal(np.zeros(dim), np.ones(dim)))\n",
    "    logits = np.dot(data, coefs)\n",
    "    return numpyro.sample('obs', dist.Bernoulli(logits=logits), obs=labels)"
   ]
  },
  {
   "cell_type": "markdown",
   "metadata": {},
   "source": [
    "## Benchmark HMC"
   ]
  },
  {
   "cell_type": "code",
   "execution_count": 4,
   "metadata": {},
   "outputs": [
    {
     "name": "stdout",
     "output_type": "stream",
     "text": [
      "number of leapfrog steps: 10000\n",
      "avg. time for each step : 0.0025879729270935057\n",
      "\n",
      "\n",
      "                mean       std    median      5.0%     95.0%     n_eff     r_hat\n",
      "  coefs[0]      2.16      0.08      2.15      2.14      2.15     98.97      1.00\n",
      "  coefs[1]      0.07      0.07      0.07      0.06      0.09    237.32      1.00\n",
      "  coefs[2]      0.02      0.07      0.02      0.01      0.05    133.57      1.00\n",
      "  coefs[3]     -0.41      0.06     -0.41     -0.42     -0.40    817.35      1.00\n",
      "  coefs[4]     -0.13      0.03     -0.13     -0.13     -0.12   1369.19      1.00\n",
      "  coefs[5]     -0.23      0.02     -0.23     -0.24     -0.23    139.04      1.01\n",
      "  coefs[6]     -0.22      0.09     -0.22     -0.25     -0.21    199.85      1.01\n",
      "  coefs[7]     -0.66      0.04     -0.66     -0.68     -0.65     79.01      1.00\n",
      "  coefs[8]      0.36      0.06      0.36      0.36      0.37    108.22      1.00\n",
      "  coefs[9]     -0.04      0.02     -0.04     -0.05     -0.04    328.03      1.00\n",
      " coefs[10]      0.54      0.02      0.54      0.54      0.55   1348.42      1.00\n",
      " coefs[11]      0.15      0.05      0.16      0.15      0.18     79.74      1.00\n",
      " coefs[12]      0.08      0.02      0.08      0.07      0.09     67.53      1.01\n",
      " coefs[13]     -2.94      0.02     -2.95     -2.95     -2.95     86.54      1.01\n",
      " coefs[14]     -0.37      0.01     -0.37     -0.37     -0.37     45.03      1.03\n",
      " coefs[15]     -0.96      0.01     -0.96     -0.96     -0.96    109.69      1.01\n",
      " coefs[16]     -0.14      0.02     -0.14     -0.14     -0.14     50.31      1.02\n",
      " coefs[17]      0.04      0.07      0.05      0.05      0.05     71.61      1.01\n",
      " coefs[18]      0.12      0.00      0.12      0.12      0.12    212.73      1.00\n",
      " coefs[19]     -1.84      0.02     -1.84     -1.84     -1.84     45.78      1.03\n",
      " coefs[20]     -1.98      0.01     -1.98     -1.98     -1.98     38.45      1.05\n",
      " coefs[21]     -0.02      0.12     -0.01     -0.01     -0.01     88.23      1.01\n",
      " coefs[22]      0.09      0.10      0.10      0.10      0.10    123.36      1.01\n",
      " coefs[23]      0.26      0.06      0.27      0.26      0.27    177.18      1.00\n",
      " coefs[24]      0.13      0.04      0.13      0.12      0.13    274.36      1.00\n",
      " coefs[25]      0.03      0.02      0.03      0.03      0.03     47.49      1.00\n",
      " coefs[26]      0.15      0.04      0.15      0.15      0.15    843.73      1.00\n",
      " coefs[27]     -0.01      0.00     -0.01     -0.01     -0.01     40.10      1.00\n",
      " coefs[28]      0.02      0.13      0.00      0.00      0.00     52.11      1.02\n",
      " coefs[29]      0.09      0.01      0.09      0.09      0.09   1217.67      1.00\n",
      " coefs[30]      0.10      0.02      0.10      0.09      0.10    283.84      1.00\n",
      " coefs[31]      0.03      0.14      0.05      0.05      0.05     46.91      1.02\n",
      " coefs[32]      0.05      0.04      0.05      0.04      0.05     97.25      1.00\n",
      " coefs[33]      0.07      0.05      0.06      0.04      0.07     68.55      1.00\n",
      " coefs[34]      0.17      0.02      0.17      0.16      0.17   1175.58      1.00\n",
      " coefs[35]      0.55      0.07      0.54      0.54      0.56    504.04      1.01\n",
      " coefs[36]      0.59      0.02      0.59      0.58      0.60    218.73      1.02\n",
      " coefs[37]      0.58      0.09      0.58      0.56      0.63     88.09      1.01\n",
      " coefs[38]      0.03      0.02      0.03      0.03      0.03     69.90      1.00\n",
      " coefs[39]      0.04      0.01      0.04      0.04      0.04    499.96      1.00\n",
      " coefs[40]      0.19      0.03      0.19      0.18      0.20     72.82      1.00\n",
      " coefs[41]      0.00      0.07      0.01      0.01      0.01     64.61      1.01\n",
      " coefs[42]      0.37      0.05      0.37      0.36      0.38    959.84      1.00\n",
      " coefs[43]      0.10      0.02      0.10      0.10      0.10     69.41      1.01\n",
      " coefs[44]      0.50      0.05      0.51      0.50      0.53    111.48      1.00\n",
      " coefs[45]     -0.12      0.13     -0.13     -0.20     -0.07     56.24      1.02\n",
      " coefs[46]      0.30      0.03      0.30      0.29      0.30     59.05      1.00\n",
      " coefs[47]     -0.06      0.01     -0.06     -0.06     -0.06   1589.86      1.00\n",
      " coefs[48]      0.11      0.05      0.12      0.11      0.13    151.47      1.00\n",
      " coefs[49]     -0.05      0.11     -0.03     -0.03     -0.03     46.92      1.02\n",
      " coefs[50]     -0.23      0.06     -0.23     -0.23     -0.23    424.15      1.00\n",
      " coefs[51]     -0.16      0.06     -0.16     -0.18     -0.16    203.55      1.00\n",
      " coefs[52]     -0.12      0.04     -0.12     -0.13     -0.11    227.83      1.00\n",
      " coefs[53]     -0.16      0.04     -0.16     -0.16     -0.16    402.95      1.00\n",
      " coefs[54]     -2.27      0.08     -2.26     -2.27     -2.26     88.62      1.01\n",
      "\n",
      "\n"
     ]
    }
   ],
   "source": [
    "step_size = np.sqrt(0.5 / N)\n",
    "kernel = HMC(model, step_size=step_size, trajectory_length=(10 * step_size), adapt_step_size=False)\n",
    "mcmc = MCMC(kernel, num_warmup=500, num_samples=500, progress_bar=False)\n",
    "tic = time.time()\n",
    "mcmc.run(random.PRNGKey(2019), features, labels, extra_fields=['num_steps'], collect_warmup=True)\n",
    "num_leapfrogs = mcmc.get_extra_fields()['num_steps'].sum().copy()\n",
    "toc = time.time()\n",
    "print(\"number of leapfrog steps:\", num_leapfrogs)\n",
    "print(\"avg. time for each step :\", (toc - tic) / num_leapfrogs)\n",
    "mcmc.print_summary()"
   ]
  },
  {
   "cell_type": "markdown",
   "metadata": {},
   "source": [
    "In CPU, we get `avg. time for each step : 0.029236876797676087`."
   ]
  },
  {
   "cell_type": "markdown",
   "metadata": {},
   "source": [
    "## Benchmark NUTS"
   ]
  },
  {
   "cell_type": "code",
   "execution_count": 5,
   "metadata": {},
   "outputs": [
    {
     "name": "stdout",
     "output_type": "stream",
     "text": [
      "number of leapfrog steps: 60657\n",
      "avg. time for each step : 0.002400124275651143\n",
      "\n",
      "\n",
      "                mean       std    median      5.0%     95.0%     n_eff     r_hat\n",
      "  coefs[0]      2.12      0.42      1.97      1.93      2.55      9.27      1.12\n",
      "  coefs[1]     -0.10      0.22     -0.04     -0.16     -0.01     13.85      1.06\n",
      "  coefs[2]     -0.10      0.14     -0.06     -0.20      0.14     23.91      1.06\n",
      "  coefs[3]     -0.24      0.24     -0.30     -0.32     -0.13     13.89      1.07\n",
      "  coefs[4]     -0.15      0.19     -0.09     -0.58     -0.08     10.13      1.11\n",
      "  coefs[5]     -0.08      0.24     -0.14     -0.20      0.05     13.84      1.06\n",
      "  coefs[6]      0.23      0.24      0.25     -0.18      0.32     17.18      1.00\n",
      "  coefs[7]     -0.57      0.22     -0.65     -0.71     -0.26      6.89      1.18\n",
      "  coefs[8]      0.44      0.31      0.58      0.04      0.67      5.10      1.25\n",
      "  coefs[9]      0.02      0.12     -0.01     -0.02      0.03     16.53      1.05\n",
      " coefs[10]      0.63      0.38      0.64      0.06      1.28     14.01      0.99\n",
      " coefs[11]      0.09      0.25      0.04     -0.27      0.46     15.52      1.01\n",
      " coefs[12]      0.27      0.39      0.28     -0.26      0.96     14.19      1.00\n",
      " coefs[13]     -2.25      0.90     -2.08     -3.47     -1.19      7.09      1.19\n",
      " coefs[14]     -0.43      0.53     -0.35     -1.13      0.41     56.74      0.99\n",
      " coefs[15]     -0.99      0.36     -0.95     -1.58     -0.45     13.01      1.07\n",
      " coefs[16]     -0.75      0.67     -0.79     -1.65      0.49      6.22      1.16\n",
      " coefs[17]     -0.15      0.33     -0.07     -0.81      0.30     10.95      1.00\n",
      " coefs[18]     -0.28      0.62     -0.10     -1.07      0.44     10.56      1.17\n",
      " coefs[19]     -0.89      0.83     -0.83     -1.79      0.32      8.61      1.18\n",
      " coefs[20]     -1.18      0.67     -1.21     -1.95     -0.16      8.51      1.10\n",
      " coefs[21]     -0.19      0.54      0.00     -1.65      0.04      8.09      1.13\n",
      " coefs[22]     -0.19      0.54      0.05     -1.47      0.16      5.46      1.21\n",
      " coefs[23]     -0.16      0.60      0.02     -1.50      0.53      7.83      1.05\n",
      " coefs[24]     -0.01      0.20      0.02     -0.31      0.30     12.15      1.00\n",
      " coefs[25]     -0.07      0.23     -0.02     -0.57      0.15      8.33      1.29\n",
      " coefs[26]     -0.09      0.38      0.00     -0.75      0.38     11.58      1.00\n",
      " coefs[27]     -0.64      0.62     -0.50     -1.64      0.08      8.03      1.16\n",
      " coefs[28]     -0.40      0.89     -0.32     -1.58      1.44      9.10      1.10\n",
      " coefs[29]      0.05      0.08      0.06     -0.10      0.13     12.40      1.11\n",
      " coefs[30]     -0.00      0.15      0.04     -0.28      0.20     10.06      1.00\n",
      " coefs[31]     -0.18      0.48     -0.00     -1.36      0.12      8.14      1.10\n",
      " coefs[32]      0.11      0.13      0.11     -0.11      0.25      7.26      1.31\n",
      " coefs[33]      0.17      0.16      0.18     -0.11      0.41      6.83      1.36\n",
      " coefs[34]      0.09      0.24      0.14     -0.11      0.23     15.86      1.01\n",
      " coefs[35]      0.51      0.64      0.39     -0.20      1.80      7.22      1.24\n",
      " coefs[36]      0.36      0.34      0.41     -0.16      0.95      7.33      1.35\n",
      " coefs[37]      0.19      0.22      0.22     -0.15      0.56      7.20      1.35\n",
      " coefs[38]     -0.04      0.09     -0.02     -0.19      0.05     11.63      1.02\n",
      " coefs[39]     -0.03      0.12      0.00     -0.21      0.15     12.11      0.99\n",
      " coefs[40]      0.04      0.06      0.05     -0.05      0.12     16.40      1.04\n",
      " coefs[41]     -0.12      0.27     -0.02     -0.78      0.07      7.72      1.11\n",
      " coefs[42]      0.04      0.41      0.11     -0.73      0.65      8.67      1.26\n",
      " coefs[43]      0.01      0.24      0.05     -0.43      0.36      7.50      1.34\n",
      " coefs[44]      0.17      0.22      0.19     -0.22      0.52      8.83      1.26\n",
      " coefs[45]      0.15      0.36      0.18     -0.48      0.70      7.27      1.34\n",
      " coefs[46]      0.22      0.29      0.26     -0.31      0.65      8.09      1.30\n",
      " coefs[47]     -0.04      0.15     -0.06     -0.19      0.05      9.07      1.19\n",
      " coefs[48]      0.02      0.32     -0.06     -0.22      0.67     10.73      1.14\n",
      " coefs[49]     -0.17      0.37     -0.03     -1.13      0.00      7.78      1.13\n",
      " coefs[50]     -0.51      0.78     -0.46     -1.44      1.47      6.87      1.29\n",
      " coefs[51]     -0.06      0.30     -0.07     -0.48      0.22      8.30      1.24\n",
      " coefs[52]     -0.08      0.23     -0.07     -0.43      0.20      7.85      1.29\n",
      " coefs[53]     -0.12      0.22     -0.12     -0.43      0.10      8.21      1.25\n",
      " coefs[54]     -2.14      0.44     -2.00     -2.59     -1.55      5.38      1.23\n",
      "\n",
      "\n"
     ]
    }
   ],
   "source": [
    "mcmc = MCMC(NUTS(model), num_warmup=50, num_samples=50, progress_bar=False)\n",
    "tic = time.time()\n",
    "mcmc.run(random.PRNGKey(2019), features, labels, extra_fields=['num_steps'], collect_warmup=True)\n",
    "num_leapfrogs = mcmc.get_extra_fields()['num_steps'].sum().copy()\n",
    "toc = time.time()\n",
    "print(\"number of leapfrog steps:\", num_leapfrogs)\n",
    "print(\"avg. time for each step :\", (toc - tic) / num_leapfrogs)\n",
    "mcmc.print_summary()"
   ]
  },
  {
   "cell_type": "markdown",
   "metadata": {},
   "source": [
    "In CPU, we get `avg. time for each step : 0.029149702710295957`."
   ]
  },
  {
   "cell_type": "markdown",
   "metadata": {},
   "source": [
    "## Compare to other frameworks"
   ]
  },
  {
   "cell_type": "markdown",
   "metadata": {},
   "source": [
    "|               |    HMC    |    NUTS   |\n",
    "| ------------- |----------:|----------:|\n",
    "| Edward2 (CPU) |           |  56.1 ms  |\n",
    "| Edward2 (GPU) |           |   9.4 ms  |\n",
    "| Pyro (CPU)    |  35.4 ms  |  35.3 ms  |\n",
    "| Pyro (GPU)    |   3.5 ms  |   4.2 ms  |\n",
    "| NumPyro (CPU) |  29.2 ms  |  29.1 ms  |\n",
    "| NumPyro (GPU) |   2.6 ms  |   2.4 ms  |"
   ]
  },
  {
   "cell_type": "markdown",
   "metadata": {},
   "source": [
    "Note that in some situtation, HMC is slower than NUTS. The reason is the number of leapfrog steps in each HMC trajectory is fixed to $10$, while it is not fixed in NUTS."
   ]
  },
  {
   "cell_type": "markdown",
   "metadata": {},
   "source": [
    "**Some takeaways:**\n",
    "+ The overhead of iterative NUTS is pretty small. So most of computation time is indeed spent for evaluating potential function and its gradient.\n",
    "+ GPU outperforms CPU by a large margin. The data is large, so evaluating potential function in GPU is clearly faster than doing so in CPU."
   ]
  },
  {
   "cell_type": "markdown",
   "metadata": {},
   "source": [
    "## References\n",
    "\n",
    "1. `Simple, Distributed, and Accelerated Probabilistic Programming,` [arxiv](https://arxiv.org/abs/1811.02091)<br>\n",
    "Dustin Tran, Matthew D. Hoffman, Dave Moore, Christopher Suter, Srinivas Vasudevan, Alexey Radul, Matthew Johnson, Rif A. Saurous"
   ]
  }
 ],
 "metadata": {
  "kernelspec": {
   "display_name": "Python (pydata)",
   "language": "python",
   "name": "pydata"
  },
  "language_info": {
   "codemirror_mode": {
    "name": "ipython",
    "version": 3
   },
   "file_extension": ".py",
   "mimetype": "text/x-python",
   "name": "python",
   "nbconvert_exporter": "python",
   "pygments_lexer": "ipython3",
   "version": "3.6.9"
  }
 },
 "nbformat": 4,
 "nbformat_minor": 4
}
