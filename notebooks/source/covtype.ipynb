{
 "cells": [
  {
   "cell_type": "code",
   "execution_count": 1,
   "metadata": {},
   "outputs": [],
   "source": [
    "from functools import partial\n",
    "import os\n",
    "import time\n",
    "\n",
    "import matplotlib.pyplot as plt\n",
    "import numpy as onp\n",
    "\n",
    "from jax import jit, lax, random, vmap\n",
    "import jax.numpy as np\n",
    "\n",
    "import numpyro; numpyro.set_platform(\"cpu\"); numpyro.set_host_device_count(4)\n",
    "from numpyro.contrib.autoguide import AutoBNAFNormal, AutoContinuousELBO\n",
    "import numpyro.distributions as dist\n",
    "from numpyro.examples.datasets import COVTYPE, load_dataset\n",
    "from numpyro.handlers import scale\n",
    "from numpyro.infer.hmc_util import consensus, parametric_draws\n",
    "from numpyro.infer.util import initialize_model, transformed_potential_energy\n",
    "from numpyro.infer import MCMC, NUTS, SVI, predictive\n",
    "import numpyro.optim as optim"
   ]
  },
  {
   "cell_type": "markdown",
   "metadata": {},
   "source": [
    "### load data"
   ]
  },
  {
   "cell_type": "code",
   "execution_count": 2,
   "metadata": {},
   "outputs": [
    {
     "name": "stdout",
     "output_type": "stream",
     "text": [
      "Data shape: (581012, 55)\n",
      "Label distribution: 211840 has label 1, 369172 has label 0\n"
     ]
    }
   ],
   "source": [
    "def _load_dataset():\n",
    "    _, fetch = load_dataset(COVTYPE, shuffle=False)\n",
    "    features, labels = fetch()\n",
    "\n",
    "    # normalize features and add intercept\n",
    "    features = (features - features.mean(0)) / features.std(0)\n",
    "    features = np.hstack([features, np.ones((features.shape[0], 1))])\n",
    "\n",
    "    # make binary feature\n",
    "    _, counts = onp.unique(labels, return_counts=True)\n",
    "    specific_category = np.argmax(counts)\n",
    "    labels = (labels == specific_category)\n",
    "\n",
    "    N, dim = features.shape\n",
    "    print(\"Data shape:\", features.shape)\n",
    "    print(\"Label distribution: {} has label 1, {} has label 0\"\n",
    "          .format(labels.sum(), N - labels.sum()))\n",
    "    return features, labels\n",
    "\n",
    "X_full, y_full = _load_dataset()"
   ]
  },
  {
   "cell_type": "code",
   "execution_count": 3,
   "metadata": {},
   "outputs": [
    {
     "name": "stdout",
     "output_type": "stream",
     "text": [
      "Train set contains 400000 (68.85%) data points.\n",
      "Test set contains 181012 (31.15%) data points.\n"
     ]
    }
   ],
   "source": [
    "def get_train_shards_and_test_data(X, y, K, N, rng=None):\n",
    "    if rng is not None:\n",
    "        idxs = random.shuffle(rng, np.arange(X.shape[0]))\n",
    "        X = X[idxs]\n",
    "        y = y[idxs]\n",
    "    shards = []\n",
    "    for i in range(K):\n",
    "        shards.append((X[i * N: (i + 1) * N], y[i * N: (i + 1) * N]))\n",
    "    train_data = (X[:K * N], y[:K * N])\n",
    "    test_data = (X[K * N:], y[K * N:])\n",
    "    return shards, train_data, test_data\n",
    "\n",
    "K, N = 40, 10000\n",
    "shards, (X_train, y_train), (X_test, y_test) = get_train_shards_and_test_data(\n",
    "    X_full, y_full, K, N, random.PRNGKey(0))\n",
    "print(\"Train set contains {} ({}%) data points.\".format(\n",
    "    K * N, round(K * N / X_full.shape[0] * 100, 2)))\n",
    "print(\"Test set contains {} ({}%) data points.\".format(\n",
    "    X_full.shape[0] - K * N, round(100 - K * N / X_full.shape[0] * 100, 2)))"
   ]
  },
  {
   "cell_type": "markdown",
   "metadata": {},
   "source": [
    "### model"
   ]
  },
  {
   "cell_type": "code",
   "execution_count": 4,
   "metadata": {},
   "outputs": [],
   "source": [
    "def model(X, y=None, prior_scale=1, likelihood_scale=1):\n",
    "    with scale(scale_factor=prior_scale):\n",
    "        coefs = numpyro.sample('coefs', dist.Normal(0, 1), sample_shape=X.shape[-1:])\n",
    "    with scale(scale_factor=likelihood_scale):\n",
    "        numpyro.sample('y', dist.Bernoulli(logits=np.dot(X, coefs)), obs=y)"
   ]
  },
  {
   "cell_type": "markdown",
   "metadata": {},
   "source": [
    "### sampling"
   ]
  },
  {
   "cell_type": "code",
   "execution_count": 6,
   "metadata": {},
   "outputs": [],
   "source": [
    "def get_subposterior(rng, shard, K):\n",
    "    X, y = shard\n",
    "    mcmc = MCMC(NUTS(model), num_warmup=1000, num_samples=2500, num_chains=4,\n",
    "                chain_method=\"parallel\", progress_bar=False)\n",
    "    mcmc.run(rng, X, y, prior_scale=1 / K)\n",
    "    return mcmc.get_samples()"
   ]
  },
  {
   "cell_type": "code",
   "execution_count": 7,
   "metadata": {},
   "outputs": [
    {
     "name": "stdout",
     "output_type": "stream",
     "text": [
      "\n",
      " =============================== SUBPOSTERIOR 00 ===============================took 71.48939394950867\n",
      "\n",
      " =============================== SUBPOSTERIOR 01 ==============================="
     ]
    },
    {
     "ename": "KeyboardInterrupt",
     "evalue": "",
     "output_type": "error",
     "traceback": [
      "\u001b[0;31m---------------------------------------------------------------------------\u001b[0m",
      "\u001b[0;31mKeyboardInterrupt\u001b[0m                         Traceback (most recent call last)",
      "\u001b[0;32m<ipython-input-7-71fa3c3bca98>\u001b[0m in \u001b[0;36m<module>\u001b[0;34m\u001b[0m\n\u001b[1;32m     10\u001b[0m     \u001b[0;32mif\u001b[0m \u001b[0;32mnot\u001b[0m \u001b[0mos\u001b[0m\u001b[0;34m.\u001b[0m\u001b[0mpath\u001b[0m\u001b[0;34m.\u001b[0m\u001b[0mexists\u001b[0m\u001b[0;34m(\u001b[0m\u001b[0;34m'.results'\u001b[0m\u001b[0;34m)\u001b[0m\u001b[0;34m:\u001b[0m\u001b[0;34m\u001b[0m\u001b[0;34m\u001b[0m\u001b[0m\n\u001b[1;32m     11\u001b[0m         \u001b[0mos\u001b[0m\u001b[0;34m.\u001b[0m\u001b[0mmakedirs\u001b[0m\u001b[0;34m(\u001b[0m\u001b[0;34m'.results'\u001b[0m\u001b[0;34m)\u001b[0m\u001b[0;34m\u001b[0m\u001b[0;34m\u001b[0m\u001b[0m\n\u001b[0;32m---> 12\u001b[0;31m     \u001b[0mnp\u001b[0m\u001b[0;34m.\u001b[0m\u001b[0msave\u001b[0m\u001b[0;34m(\u001b[0m\u001b[0;34m'.results/subposterior_{:02d}.npy'\u001b[0m\u001b[0;34m.\u001b[0m\u001b[0mformat\u001b[0m\u001b[0;34m(\u001b[0m\u001b[0mi\u001b[0m\u001b[0;34m)\u001b[0m\u001b[0;34m,\u001b[0m \u001b[0msamples\u001b[0m\u001b[0;34m)\u001b[0m\u001b[0;34m\u001b[0m\u001b[0;34m\u001b[0m\u001b[0m\n\u001b[0m\u001b[1;32m     13\u001b[0m     \u001b[0msubposteriors\u001b[0m\u001b[0;34m.\u001b[0m\u001b[0mappend\u001b[0m\u001b[0;34m(\u001b[0m\u001b[0msamples\u001b[0m\u001b[0;34m)\u001b[0m\u001b[0;34m\u001b[0m\u001b[0;34m\u001b[0m\u001b[0m\n\u001b[1;32m     14\u001b[0m     \u001b[0mend\u001b[0m \u001b[0;34m=\u001b[0m \u001b[0mtime\u001b[0m\u001b[0;34m.\u001b[0m\u001b[0mtime\u001b[0m\u001b[0;34m(\u001b[0m\u001b[0;34m)\u001b[0m\u001b[0;34m\u001b[0m\u001b[0;34m\u001b[0m\u001b[0m\n",
      "\u001b[0;32m~/miniconda3/envs/pydata/lib/python3.6/site-packages/numpy/lib/npyio.py\u001b[0m in \u001b[0;36msave\u001b[0;34m(file, arr, allow_pickle, fix_imports)\u001b[0m\n\u001b[1;32m    534\u001b[0m         \u001b[0marr\u001b[0m \u001b[0;34m=\u001b[0m \u001b[0mnp\u001b[0m\u001b[0;34m.\u001b[0m\u001b[0masanyarray\u001b[0m\u001b[0;34m(\u001b[0m\u001b[0marr\u001b[0m\u001b[0;34m)\u001b[0m\u001b[0;34m\u001b[0m\u001b[0;34m\u001b[0m\u001b[0m\n\u001b[1;32m    535\u001b[0m         format.write_array(fid, arr, allow_pickle=allow_pickle,\n\u001b[0;32m--> 536\u001b[0;31m                            pickle_kwargs=pickle_kwargs)\n\u001b[0m\u001b[1;32m    537\u001b[0m     \u001b[0;32mfinally\u001b[0m\u001b[0;34m:\u001b[0m\u001b[0;34m\u001b[0m\u001b[0;34m\u001b[0m\u001b[0m\n\u001b[1;32m    538\u001b[0m         \u001b[0;32mif\u001b[0m \u001b[0mown_fid\u001b[0m\u001b[0;34m:\u001b[0m\u001b[0;34m\u001b[0m\u001b[0;34m\u001b[0m\u001b[0m\n",
      "\u001b[0;32m~/miniconda3/envs/pydata/lib/python3.6/site-packages/numpy/lib/format.py\u001b[0m in \u001b[0;36mwrite_array\u001b[0;34m(fp, array, version, allow_pickle, pickle_kwargs)\u001b[0m\n\u001b[1;32m    631\u001b[0m         \u001b[0;32mif\u001b[0m \u001b[0mpickle_kwargs\u001b[0m \u001b[0;32mis\u001b[0m \u001b[0;32mNone\u001b[0m\u001b[0;34m:\u001b[0m\u001b[0;34m\u001b[0m\u001b[0;34m\u001b[0m\u001b[0m\n\u001b[1;32m    632\u001b[0m             \u001b[0mpickle_kwargs\u001b[0m \u001b[0;34m=\u001b[0m \u001b[0;34m{\u001b[0m\u001b[0;34m}\u001b[0m\u001b[0;34m\u001b[0m\u001b[0;34m\u001b[0m\u001b[0m\n\u001b[0;32m--> 633\u001b[0;31m         \u001b[0mpickle\u001b[0m\u001b[0;34m.\u001b[0m\u001b[0mdump\u001b[0m\u001b[0;34m(\u001b[0m\u001b[0marray\u001b[0m\u001b[0;34m,\u001b[0m \u001b[0mfp\u001b[0m\u001b[0;34m,\u001b[0m \u001b[0mprotocol\u001b[0m\u001b[0;34m=\u001b[0m\u001b[0;36m2\u001b[0m\u001b[0;34m,\u001b[0m \u001b[0;34m**\u001b[0m\u001b[0mpickle_kwargs\u001b[0m\u001b[0;34m)\u001b[0m\u001b[0;34m\u001b[0m\u001b[0;34m\u001b[0m\u001b[0m\n\u001b[0m\u001b[1;32m    634\u001b[0m     \u001b[0;32melif\u001b[0m \u001b[0marray\u001b[0m\u001b[0;34m.\u001b[0m\u001b[0mflags\u001b[0m\u001b[0;34m.\u001b[0m\u001b[0mf_contiguous\u001b[0m \u001b[0;32mand\u001b[0m \u001b[0;32mnot\u001b[0m \u001b[0marray\u001b[0m\u001b[0;34m.\u001b[0m\u001b[0mflags\u001b[0m\u001b[0;34m.\u001b[0m\u001b[0mc_contiguous\u001b[0m\u001b[0;34m:\u001b[0m\u001b[0;34m\u001b[0m\u001b[0;34m\u001b[0m\u001b[0m\n\u001b[1;32m    635\u001b[0m         \u001b[0;32mif\u001b[0m \u001b[0misfileobj\u001b[0m\u001b[0;34m(\u001b[0m\u001b[0mfp\u001b[0m\u001b[0;34m)\u001b[0m\u001b[0;34m:\u001b[0m\u001b[0;34m\u001b[0m\u001b[0;34m\u001b[0m\u001b[0m\n",
      "\u001b[0;32m~/jax/jax/interpreters/xla.py\u001b[0m in \u001b[0;36m_forward_method\u001b[0;34m(attrname, self, fun, *args)\u001b[0m\n\u001b[1;32m    587\u001b[0m \u001b[0;34m\u001b[0m\u001b[0m\n\u001b[1;32m    588\u001b[0m \u001b[0;32mdef\u001b[0m \u001b[0m_forward_method\u001b[0m\u001b[0;34m(\u001b[0m\u001b[0mattrname\u001b[0m\u001b[0;34m,\u001b[0m \u001b[0mself\u001b[0m\u001b[0;34m,\u001b[0m \u001b[0mfun\u001b[0m\u001b[0;34m,\u001b[0m \u001b[0;34m*\u001b[0m\u001b[0margs\u001b[0m\u001b[0;34m)\u001b[0m\u001b[0;34m:\u001b[0m\u001b[0;34m\u001b[0m\u001b[0;34m\u001b[0m\u001b[0m\n\u001b[0;32m--> 589\u001b[0;31m   \u001b[0;32mreturn\u001b[0m \u001b[0mfun\u001b[0m\u001b[0;34m(\u001b[0m\u001b[0mgetattr\u001b[0m\u001b[0;34m(\u001b[0m\u001b[0mself\u001b[0m\u001b[0;34m,\u001b[0m \u001b[0mattrname\u001b[0m\u001b[0;34m)\u001b[0m\u001b[0;34m,\u001b[0m \u001b[0;34m*\u001b[0m\u001b[0margs\u001b[0m\u001b[0;34m)\u001b[0m\u001b[0;34m\u001b[0m\u001b[0;34m\u001b[0m\u001b[0m\n\u001b[0m\u001b[1;32m    590\u001b[0m \u001b[0m_forward_to_value\u001b[0m \u001b[0;34m=\u001b[0m \u001b[0mpartial\u001b[0m\u001b[0;34m(\u001b[0m\u001b[0m_forward_method\u001b[0m\u001b[0;34m,\u001b[0m \u001b[0;34m\"_value\"\u001b[0m\u001b[0;34m)\u001b[0m\u001b[0;34m\u001b[0m\u001b[0;34m\u001b[0m\u001b[0m\n\u001b[1;32m    591\u001b[0m \u001b[0;34m\u001b[0m\u001b[0m\n",
      "\u001b[0;32m~/jax/jax/interpreters/pxla.py\u001b[0m in \u001b[0;36m_value\u001b[0;34m(self)\u001b[0m\n\u001b[1;32m    388\u001b[0m     \u001b[0;32mif\u001b[0m \u001b[0mself\u001b[0m\u001b[0;34m.\u001b[0m\u001b[0m_npy_value\u001b[0m \u001b[0;32mis\u001b[0m \u001b[0;32mNone\u001b[0m\u001b[0;34m:\u001b[0m\u001b[0;34m\u001b[0m\u001b[0;34m\u001b[0m\u001b[0m\n\u001b[1;32m    389\u001b[0m       \u001b[0mids\u001b[0m \u001b[0;34m=\u001b[0m \u001b[0mself\u001b[0m\u001b[0;34m.\u001b[0m\u001b[0m_ids\u001b[0m\u001b[0;34m(\u001b[0m\u001b[0;34m)\u001b[0m\u001b[0;34m\u001b[0m\u001b[0;34m\u001b[0m\u001b[0m\n\u001b[0;32m--> 390\u001b[0;31m       \u001b[0mself\u001b[0m\u001b[0;34m.\u001b[0m\u001b[0mcopy_to_host_async\u001b[0m\u001b[0;34m(\u001b[0m\u001b[0;34m)\u001b[0m\u001b[0;34m\u001b[0m\u001b[0;34m\u001b[0m\u001b[0m\n\u001b[0m\u001b[1;32m    391\u001b[0m       \u001b[0mself\u001b[0m\u001b[0;34m.\u001b[0m\u001b[0m_npy_value\u001b[0m \u001b[0;34m=\u001b[0m \u001b[0mself\u001b[0m\u001b[0;34m.\u001b[0m\u001b[0m_collect\u001b[0m\u001b[0;34m(\u001b[0m\u001b[0;34m[\u001b[0m\u001b[0mself\u001b[0m\u001b[0;34m.\u001b[0m\u001b[0mdevice_buffers\u001b[0m\u001b[0;34m[\u001b[0m\u001b[0mi\u001b[0m\u001b[0;34m]\u001b[0m\u001b[0;34m.\u001b[0m\u001b[0mto_py\u001b[0m\u001b[0;34m(\u001b[0m\u001b[0;34m)\u001b[0m \u001b[0;32mfor\u001b[0m \u001b[0mi\u001b[0m \u001b[0;32min\u001b[0m \u001b[0mids\u001b[0m\u001b[0;34m]\u001b[0m\u001b[0;34m)\u001b[0m\u001b[0;34m\u001b[0m\u001b[0;34m\u001b[0m\u001b[0m\n\u001b[1;32m    392\u001b[0m     \u001b[0;32mreturn\u001b[0m \u001b[0mself\u001b[0m\u001b[0;34m.\u001b[0m\u001b[0m_npy_value\u001b[0m\u001b[0;34m\u001b[0m\u001b[0;34m\u001b[0m\u001b[0m\n",
      "\u001b[0;32m~/jax/jax/interpreters/pxla.py\u001b[0m in \u001b[0;36mcopy_to_host_async\u001b[0;34m(self)\u001b[0m\n\u001b[1;32m    376\u001b[0m     \u001b[0;32mif\u001b[0m \u001b[0mself\u001b[0m\u001b[0;34m.\u001b[0m\u001b[0m_npy_value\u001b[0m \u001b[0;32mis\u001b[0m \u001b[0;32mNone\u001b[0m\u001b[0;34m:\u001b[0m\u001b[0;34m\u001b[0m\u001b[0;34m\u001b[0m\u001b[0m\n\u001b[1;32m    377\u001b[0m       \u001b[0;32mfor\u001b[0m \u001b[0mbuf\u001b[0m \u001b[0;32min\u001b[0m \u001b[0mself\u001b[0m\u001b[0;34m.\u001b[0m\u001b[0mdevice_buffers\u001b[0m\u001b[0;34m:\u001b[0m\u001b[0;34m\u001b[0m\u001b[0;34m\u001b[0m\u001b[0m\n\u001b[0;32m--> 378\u001b[0;31m         \u001b[0mbuf\u001b[0m\u001b[0;34m.\u001b[0m\u001b[0mcopy_to_host_async\u001b[0m\u001b[0;34m(\u001b[0m\u001b[0;34m)\u001b[0m\u001b[0;34m\u001b[0m\u001b[0;34m\u001b[0m\u001b[0m\n\u001b[0m\u001b[1;32m    379\u001b[0m \u001b[0;34m\u001b[0m\u001b[0m\n\u001b[1;32m    380\u001b[0m   \u001b[0;32mdef\u001b[0m \u001b[0mdelete\u001b[0m\u001b[0;34m(\u001b[0m\u001b[0mself\u001b[0m\u001b[0;34m)\u001b[0m\u001b[0;34m:\u001b[0m\u001b[0;34m\u001b[0m\u001b[0;34m\u001b[0m\u001b[0m\n",
      "\u001b[0;31mKeyboardInterrupt\u001b[0m: "
     ]
    }
   ],
   "source": [
    "rngs = random.split(random.PRNGKey(0), K)\n",
    "subposteriors = []\n",
    "for i, (rng, shard) in enumerate(zip(rngs, shards)):\n",
    "    start = time.time()\n",
    "    sep = '=' * 31\n",
    "    if i > 5:\n",
    "        break\n",
    "    print('\\n ' + sep + ' SUBPOSTERIOR {:02d} '.format(i) + sep, end='')\n",
    "    samples = get_subposterior(rng, shard, K)\n",
    "    if not os.path.exists('.results'):\n",
    "        os.makedirs('.results')\n",
    "    np.save('.results/subposterior_{:02d}.npy'.format(i), samples)\n",
    "    subposteriors.append(samples)\n",
    "    end = time.time()\n",
    "    print(\"Elapsed time:\", end - start)"
   ]
  },
  {
   "cell_type": "markdown",
   "metadata": {},
   "source": [
    "### merge subposteriors"
   ]
  },
  {
   "cell_type": "code",
   "execution_count": 8,
   "metadata": {},
   "outputs": [],
   "source": [
    "consensus_samples = consensus(subposteriors, 10000)\n",
    "parametric_samples = parametric_draws(subposteriors, 10000)\n",
    "np.save('.results/consensus_samples.npy', consensus_samples)\n",
    "np.save('.results/parametric_samples.npy', parametric_samples)"
   ]
  },
  {
   "cell_type": "code",
   "execution_count": 11,
   "metadata": {},
   "outputs": [
    {
     "name": "stdout",
     "output_type": "stream",
     "text": [
      "Consensus accuaracy: 0.771\n",
      "Parametric accuaracy: 0.771\n"
     ]
    }
   ],
   "source": [
    "y_consensus = predictive(random.PRNGKey(0), model, consensus_samples, X_test)\n",
    "y_consensus = (y_consensus.sum(axis=0) / y_consensus.shape[0]) >= 0.5\n",
    "acc = (y_consensus == y_test).sum() / y_test.shape[0]\n",
    "print('Consensus accuaracy: {}'.format(round(acc.item(), 4)))\n",
    "\n",
    "y_parametric = predictive(random.PRNGKey(1), model, parametric_samples, X_test)\n",
    "y_parametric = (y_parametric.sum(axis=0) / y_parametric.shape[0]) >= 0.5\n",
    "acc = (y_parametric == y_test).sum() / y_test.shape[0]\n",
    "print('Parametric accuaracy: {}'.format(round(acc.item(), 4)))"
   ]
  },
  {
   "cell_type": "markdown",
   "metadata": {},
   "source": [
    "### train bnaf"
   ]
  },
  {
   "cell_type": "code",
   "execution_count": 15,
   "metadata": {},
   "outputs": [],
   "source": [
    "batch_size = 1000\n",
    "iters_per_epoch = X_train.shape[0] // batch_size\n",
    "guide = AutoBNAFNormal(model, num_flows=1, hidden_factors=[8])\n",
    "svi = SVI(model, guide, optim.Adam(0.01), AutoContinuousELBO(), likelihood_scale=iters_per_epoch)\n",
    "svi_state = svi.init(random.PRNGKey(0), X_train[:1], y_train[:1])\n",
    "\n",
    "def epoch_train(epoch, svi_state):\n",
    "    idx = random.shuffle(random.fold_in(random.PRNGKey(1), epoch), np.arange(X_train.shape[0]))\n",
    "    X, y = X_train[idx], y_train[idx]\n",
    "\n",
    "    def body_fn(state, i):\n",
    "        X_batch = lax.dynamic_slice_in_dim(X, i * batch_size, batch_size)\n",
    "        y_batch = lax.dynamic_slice_in_dim(y, i * batch_size, batch_size)\n",
    "        return svi.update(state, X_batch, y_batch)\n",
    "\n",
    "    svi_state, losses = lax.scan(body_fn, svi_state, np.arange(iters_per_epoch))\n",
    "    return svi_state, losses"
   ]
  },
  {
   "cell_type": "code",
   "execution_count": 14,
   "metadata": {},
   "outputs": [
    {
     "name": "stdout",
     "output_type": "stream",
     "text": [
      "Epoch 01 - loss 231555.4531 - acc 0.7705 - time 71.38712668418884\n"
     ]
    },
    {
     "ename": "KeyboardInterrupt",
     "evalue": "",
     "output_type": "error",
     "traceback": [
      "\u001b[0;31m---------------------------------------------------------------------------\u001b[0m",
      "\u001b[0;31mKeyboardInterrupt\u001b[0m                         Traceback (most recent call last)",
      "\u001b[0;32m<ipython-input-14-4f3db8545926>\u001b[0m in \u001b[0;36m<module>\u001b[0;34m\u001b[0m\n\u001b[1;32m     10\u001b[0m     \u001b[0macc\u001b[0m \u001b[0;34m=\u001b[0m \u001b[0;34m(\u001b[0m\u001b[0my_iaf\u001b[0m \u001b[0;34m==\u001b[0m \u001b[0my_test\u001b[0m\u001b[0;34m)\u001b[0m\u001b[0;34m.\u001b[0m\u001b[0msum\u001b[0m\u001b[0;34m(\u001b[0m\u001b[0;34m)\u001b[0m \u001b[0;34m/\u001b[0m \u001b[0my_test\u001b[0m\u001b[0;34m.\u001b[0m\u001b[0mshape\u001b[0m\u001b[0;34m[\u001b[0m\u001b[0;36m0\u001b[0m\u001b[0;34m]\u001b[0m\u001b[0;34m\u001b[0m\u001b[0;34m\u001b[0m\u001b[0m\n\u001b[1;32m     11\u001b[0m     print(\"Epoch {:02d} - loss {:.4f} - acc {} - time {}\".format(\n\u001b[0;32m---> 12\u001b[0;31m         epoch, np.mean(epoch_loss), round(acc.item(), 4), time.time() - tic))\n\u001b[0m\u001b[1;32m     13\u001b[0m     \u001b[0mlosses\u001b[0m \u001b[0;34m=\u001b[0m \u001b[0mnp\u001b[0m\u001b[0;34m.\u001b[0m\u001b[0mconcatenate\u001b[0m\u001b[0;34m(\u001b[0m\u001b[0;34m[\u001b[0m\u001b[0mlosses\u001b[0m\u001b[0;34m,\u001b[0m \u001b[0mepoch_loss\u001b[0m\u001b[0;34m]\u001b[0m\u001b[0;34m)\u001b[0m\u001b[0;34m\u001b[0m\u001b[0;34m\u001b[0m\u001b[0m\n",
      "\u001b[0;32m~/jax/jax/interpreters/xla.py\u001b[0m in \u001b[0;36mitem\u001b[0;34m(self)\u001b[0m\n\u001b[1;32m    662\u001b[0m       \u001b[0;32mreturn\u001b[0m \u001b[0mcomplex\u001b[0m\u001b[0;34m(\u001b[0m\u001b[0mself\u001b[0m\u001b[0;34m)\u001b[0m\u001b[0;34m\u001b[0m\u001b[0;34m\u001b[0m\u001b[0m\n\u001b[1;32m    663\u001b[0m     \u001b[0;32melif\u001b[0m \u001b[0monp\u001b[0m\u001b[0;34m.\u001b[0m\u001b[0missubdtype\u001b[0m\u001b[0;34m(\u001b[0m\u001b[0mself\u001b[0m\u001b[0;34m.\u001b[0m\u001b[0mdtype\u001b[0m\u001b[0;34m,\u001b[0m \u001b[0monp\u001b[0m\u001b[0;34m.\u001b[0m\u001b[0mfloating\u001b[0m\u001b[0;34m)\u001b[0m\u001b[0;34m:\u001b[0m\u001b[0;34m\u001b[0m\u001b[0;34m\u001b[0m\u001b[0m\n\u001b[0;32m--> 664\u001b[0;31m       \u001b[0;32mreturn\u001b[0m \u001b[0mfloat\u001b[0m\u001b[0;34m(\u001b[0m\u001b[0mself\u001b[0m\u001b[0;34m)\u001b[0m\u001b[0;34m\u001b[0m\u001b[0;34m\u001b[0m\u001b[0m\n\u001b[0m\u001b[1;32m    665\u001b[0m     \u001b[0;32melif\u001b[0m \u001b[0monp\u001b[0m\u001b[0;34m.\u001b[0m\u001b[0missubdtype\u001b[0m\u001b[0;34m(\u001b[0m\u001b[0mself\u001b[0m\u001b[0;34m.\u001b[0m\u001b[0mdtype\u001b[0m\u001b[0;34m,\u001b[0m \u001b[0monp\u001b[0m\u001b[0;34m.\u001b[0m\u001b[0minteger\u001b[0m\u001b[0;34m)\u001b[0m\u001b[0;34m:\u001b[0m\u001b[0;34m\u001b[0m\u001b[0;34m\u001b[0m\u001b[0m\n\u001b[1;32m    666\u001b[0m       \u001b[0;32mreturn\u001b[0m \u001b[0mint\u001b[0m\u001b[0;34m(\u001b[0m\u001b[0mself\u001b[0m\u001b[0;34m)\u001b[0m\u001b[0;34m\u001b[0m\u001b[0;34m\u001b[0m\u001b[0m\n",
      "\u001b[0;32m~/jax/jax/interpreters/xla.py\u001b[0m in \u001b[0;36m_forward_method\u001b[0;34m(attrname, self, fun, *args)\u001b[0m\n\u001b[1;32m    587\u001b[0m \u001b[0;34m\u001b[0m\u001b[0m\n\u001b[1;32m    588\u001b[0m \u001b[0;32mdef\u001b[0m \u001b[0m_forward_method\u001b[0m\u001b[0;34m(\u001b[0m\u001b[0mattrname\u001b[0m\u001b[0;34m,\u001b[0m \u001b[0mself\u001b[0m\u001b[0;34m,\u001b[0m \u001b[0mfun\u001b[0m\u001b[0;34m,\u001b[0m \u001b[0;34m*\u001b[0m\u001b[0margs\u001b[0m\u001b[0;34m)\u001b[0m\u001b[0;34m:\u001b[0m\u001b[0;34m\u001b[0m\u001b[0;34m\u001b[0m\u001b[0m\n\u001b[0;32m--> 589\u001b[0;31m   \u001b[0;32mreturn\u001b[0m \u001b[0mfun\u001b[0m\u001b[0;34m(\u001b[0m\u001b[0mgetattr\u001b[0m\u001b[0;34m(\u001b[0m\u001b[0mself\u001b[0m\u001b[0;34m,\u001b[0m \u001b[0mattrname\u001b[0m\u001b[0;34m)\u001b[0m\u001b[0;34m,\u001b[0m \u001b[0;34m*\u001b[0m\u001b[0margs\u001b[0m\u001b[0;34m)\u001b[0m\u001b[0;34m\u001b[0m\u001b[0;34m\u001b[0m\u001b[0m\n\u001b[0m\u001b[1;32m    590\u001b[0m \u001b[0m_forward_to_value\u001b[0m \u001b[0;34m=\u001b[0m \u001b[0mpartial\u001b[0m\u001b[0;34m(\u001b[0m\u001b[0m_forward_method\u001b[0m\u001b[0;34m,\u001b[0m \u001b[0;34m\"_value\"\u001b[0m\u001b[0;34m)\u001b[0m\u001b[0;34m\u001b[0m\u001b[0;34m\u001b[0m\u001b[0m\n\u001b[1;32m    591\u001b[0m \u001b[0;34m\u001b[0m\u001b[0m\n",
      "\u001b[0;32m~/jax/jax/interpreters/xla.py\u001b[0m in \u001b[0;36m_value\u001b[0;34m(self)\u001b[0m\n\u001b[1;32m    610\u001b[0m     \u001b[0mself\u001b[0m\u001b[0;34m.\u001b[0m\u001b[0m_check_if_deleted\u001b[0m\u001b[0;34m(\u001b[0m\u001b[0;34m)\u001b[0m\u001b[0;34m\u001b[0m\u001b[0;34m\u001b[0m\u001b[0m\n\u001b[1;32m    611\u001b[0m     \u001b[0;32mif\u001b[0m \u001b[0mself\u001b[0m\u001b[0;34m.\u001b[0m\u001b[0m_npy_value\u001b[0m \u001b[0;32mis\u001b[0m \u001b[0;32mNone\u001b[0m\u001b[0;34m:\u001b[0m\u001b[0;34m\u001b[0m\u001b[0;34m\u001b[0m\u001b[0m\n\u001b[0;32m--> 612\u001b[0;31m       \u001b[0mself\u001b[0m\u001b[0;34m.\u001b[0m\u001b[0m_npy_value\u001b[0m \u001b[0;34m=\u001b[0m \u001b[0mself\u001b[0m\u001b[0;34m.\u001b[0m\u001b[0mdevice_buffer\u001b[0m\u001b[0;34m.\u001b[0m\u001b[0mto_py\u001b[0m\u001b[0;34m(\u001b[0m\u001b[0;34m)\u001b[0m\u001b[0;34m\u001b[0m\u001b[0;34m\u001b[0m\u001b[0m\n\u001b[0m\u001b[1;32m    613\u001b[0m       \u001b[0mself\u001b[0m\u001b[0;34m.\u001b[0m\u001b[0m_npy_value\u001b[0m\u001b[0;34m.\u001b[0m\u001b[0mflags\u001b[0m\u001b[0;34m.\u001b[0m\u001b[0mwriteable\u001b[0m \u001b[0;34m=\u001b[0m \u001b[0;32mFalse\u001b[0m\u001b[0;34m\u001b[0m\u001b[0;34m\u001b[0m\u001b[0m\n\u001b[1;32m    614\u001b[0m     \u001b[0;32mreturn\u001b[0m \u001b[0mself\u001b[0m\u001b[0;34m.\u001b[0m\u001b[0m_npy_value\u001b[0m\u001b[0;34m\u001b[0m\u001b[0;34m\u001b[0m\u001b[0m\n",
      "\u001b[0;32m~/miniconda3/envs/pydata/lib/python3.6/site-packages/numpy/core/_internal.py\u001b[0m in \u001b[0;36m_dtype_from_pep3118\u001b[0;34m(spec)\u001b[0m\n\u001b[1;32m    597\u001b[0m \u001b[0;34m\u001b[0m\u001b[0m\n\u001b[1;32m    598\u001b[0m \u001b[0;34m\u001b[0m\u001b[0m\n\u001b[0;32m--> 599\u001b[0;31m \u001b[0;32mdef\u001b[0m \u001b[0m_dtype_from_pep3118\u001b[0m\u001b[0;34m(\u001b[0m\u001b[0mspec\u001b[0m\u001b[0;34m)\u001b[0m\u001b[0;34m:\u001b[0m\u001b[0;34m\u001b[0m\u001b[0;34m\u001b[0m\u001b[0m\n\u001b[0m\u001b[1;32m    600\u001b[0m     \u001b[0mstream\u001b[0m \u001b[0;34m=\u001b[0m \u001b[0m_Stream\u001b[0m\u001b[0;34m(\u001b[0m\u001b[0mspec\u001b[0m\u001b[0;34m)\u001b[0m\u001b[0;34m\u001b[0m\u001b[0;34m\u001b[0m\u001b[0m\n\u001b[1;32m    601\u001b[0m     \u001b[0mdtype\u001b[0m\u001b[0;34m,\u001b[0m \u001b[0malign\u001b[0m \u001b[0;34m=\u001b[0m \u001b[0m__dtype_from_pep3118\u001b[0m\u001b[0;34m(\u001b[0m\u001b[0mstream\u001b[0m\u001b[0;34m,\u001b[0m \u001b[0mis_subdtype\u001b[0m\u001b[0;34m=\u001b[0m\u001b[0;32mFalse\u001b[0m\u001b[0;34m)\u001b[0m\u001b[0;34m\u001b[0m\u001b[0;34m\u001b[0m\u001b[0m\n",
      "\u001b[0;31mKeyboardInterrupt\u001b[0m: "
     ]
    }
   ],
   "source": [
    "losses = np.array([])\n",
    "num_epochs = 2\n",
    "for epoch in range(1, num_epochs + 1):\n",
    "    tic = time.time()\n",
    "    svi_state, epoch_loss = epoch_train(epoch, svi_state)\n",
    "    params = svi.get_params(svi_state)\n",
    "    posterior = guide.sample_posterior(random.PRNGKey(2 * epoch), params, sample_shape=(10000,))\n",
    "    y_iaf = predictive(random.PRNGKey(2 * epoch + 1), model, posterior, X_test)[\"y\"]\n",
    "    y_iaf = (y_iaf.sum(axis=0) / y_iaf.shape[0]) >= 0.5\n",
    "    acc = (y_iaf == y_test).sum() / y_test.shape[0]\n",
    "    print(\"Epoch {:02d} - loss {:.4f} - acc {} - time {}\".format(\n",
    "        epoch, np.mean(epoch_loss), round(acc.item(), 4), time.time() - tic))\n",
    "    losses = np.concatenate([losses, epoch_loss])"
   ]
  },
  {
   "cell_type": "code",
   "execution_count": 16,
   "metadata": {},
   "outputs": [
    {
     "data": {
      "text/plain": [
       "[<matplotlib.lines.Line2D at 0x7fd1f5db94e0>]"
      ]
     },
     "execution_count": 16,
     "metadata": {},
     "output_type": "execute_result"
    },
    {
     "data": {
      "image/png": "[encoded data removed]",
      "text/plain": [
       "<Figure size 432x288 with 1 Axes>"
      ]
     },
     "metadata": {
      "needs_background": "light"
     },
     "output_type": "display_data"
    }
   ],
   "source": [
    "plt.plot(losses)"
   ]
  },
  {
   "cell_type": "markdown",
   "metadata": {},
   "source": [
    "### Flow HMC"
   ]
  },
  {
   "cell_type": "code",
   "execution_count": 5,
   "metadata": {},
   "outputs": [
    {
     "ename": "NameError",
     "evalue": "name 'guide' is not defined",
     "output_type": "error",
     "traceback": [
      "\u001b[0;31m---------------------------------------------------------------------------\u001b[0m",
      "\u001b[0;31mNameError\u001b[0m                                 Traceback (most recent call last)",
      "\u001b[0;32m<ipython-input-5-785228ceca98>\u001b[0m in \u001b[0;36m<module>\u001b[0;34m\u001b[0m\n\u001b[0;32m----> 1\u001b[0;31m \u001b[0mtransform\u001b[0m \u001b[0;34m=\u001b[0m \u001b[0mguide\u001b[0m\u001b[0;34m.\u001b[0m\u001b[0mget_transform\u001b[0m\u001b[0;34m(\u001b[0m\u001b[0mopt_state\u001b[0m\u001b[0;34m)\u001b[0m\u001b[0;34m\u001b[0m\u001b[0;34m\u001b[0m\u001b[0m\n\u001b[0m\u001b[1;32m      2\u001b[0m \u001b[0munpack_fn\u001b[0m \u001b[0;34m=\u001b[0m \u001b[0mguide\u001b[0m\u001b[0;34m.\u001b[0m\u001b[0munpack_latent\u001b[0m\u001b[0;34m\u001b[0m\u001b[0;34m\u001b[0m\u001b[0m\n\u001b[1;32m      3\u001b[0m \u001b[0mlatent_size\u001b[0m \u001b[0;34m=\u001b[0m \u001b[0mguide\u001b[0m\u001b[0;34m.\u001b[0m\u001b[0mlatent_size\u001b[0m\u001b[0;34m\u001b[0m\u001b[0;34m\u001b[0m\u001b[0m\n",
      "\u001b[0;31mNameError\u001b[0m: name 'guide' is not defined"
     ]
    }
   ],
   "source": [
    "transform = guide.get_transform(opt_state)\n",
    "unpack_fn = guide.unpack_latent\n",
    "latent_size = guide.latent_size"
   ]
  },
  {
   "cell_type": "code",
   "execution_count": 88,
   "metadata": {},
   "outputs": [],
   "source": [
    "def make_transformed_pe(potential_fn, transform, unpack_fn, prior_scale):\n",
    "    def transformed_potential_fn(z):\n",
    "        u, intermediates = transform.call_with_intermediates(z)\n",
    "        logdet = transform.log_abs_det_jacobian(z, u, intermediates=intermediates) * prior_scale\n",
    "        return potential_fn(unpack_fn(u)) + logdet\n",
    "\n",
    "    return transformed_potential_fn"
   ]
  },
  {
   "cell_type": "code",
   "execution_count": 79,
   "metadata": {},
   "outputs": [],
   "source": [
    "def get_flow_subposterior(rng, shard, K):\n",
    "    X, y = shard\n",
    "    init_params = random.normal(rng, (4, latent_size))\n",
    "    _, potential_fn, _ = initialize_model(rng, model, X, y, prior_scale=1 / K)\n",
    "    transformed_potential_fn = make_transformed_pe(potential_fn, transform, unpack_fn, 1 / K)\n",
    "    samples = mcmc(num_warmup=1000, num_samples=2500, init_params=init_params,\n",
    "                   num_chains=4, potential_fn=transformed_potential_fn)\n",
    "    return samples"
   ]
  },
  {
   "cell_type": "code",
   "execution_count": 89,
   "metadata": {},
   "outputs": [
    {
     "name": "stderr",
     "output_type": "stream",
     "text": [
      "warmup: 100%|██████████| 1000/1000 [03:07<00:00,  5.63it/s, 1023 steps of size 6.92e-05. acc. prob=0.78]\n",
      "sample: 100%|██████████| 2500/2500 [07:29<00:00,  5.58it/s, 1023 steps of size 6.92e-05. acc. prob=0.88]\n"
     ]
    },
    {
     "name": "stdout",
     "output_type": "stream",
     "text": [
      "\n",
      "\n",
      "                 mean       std    median      5.0%     95.0%     n_eff     r_hat\n",
      " Param:0[0]    -13.94      0.25    -14.01    -14.26    -13.50      6.02      1.01\n",
      " Param:0[1]      3.60      0.10      3.58      3.46      3.77      4.80      1.81\n",
      " Param:0[2]     -1.00      0.36     -1.06     -1.56     -0.42      4.99      1.35\n",
      " Param:0[3]     -5.20      0.33     -5.32     -5.57     -4.54      3.37      1.68\n",
      " Param:0[4]     -2.45      0.67     -2.45     -3.60     -1.51      2.59      2.69\n",
      " Param:0[5]      6.63      0.44      6.74      5.81      7.18      3.79      1.65\n",
      " Param:0[6]      0.34      0.57      0.30     -0.56      1.29      7.26      1.01\n",
      " Param:0[7]     -1.72      0.30     -1.72     -2.22     -1.24      4.35      1.86\n",
      " Param:0[8]     10.02      0.59      9.89      9.13     11.04      4.90      1.15\n",
      " Param:0[9]     -6.03      0.49     -5.89     -6.84     -5.33      3.51      1.69\n",
      "Param:0[10]     11.40      0.53     11.44     10.59     12.21      3.57      2.19\n",
      "Param:0[11]     15.31      0.38     15.24     14.73     15.97     12.57      1.01\n",
      "Param:0[12]     30.34      0.88     30.54     28.70     31.54      5.96      1.01\n",
      "Param:0[13]     -0.24      0.57     -0.25     -1.15      0.54      4.01      1.41\n",
      "Param:0[14]     -8.89      0.47     -8.82     -9.67     -8.16      4.70      1.05\n",
      "Param:0[15]      0.82      0.64      0.97     -0.55      1.62      4.95      1.11\n",
      "Param:0[16]      0.62      0.32      0.54      0.20      1.18      4.59      1.12\n",
      "Param:0[17]    -10.90      1.00    -10.76    -12.52     -9.27      5.20      1.45\n",
      "Param:0[18]      0.62      0.16      0.59      0.37      0.86      4.88      1.16\n",
      "Param:0[19]     -6.58      0.50     -6.55     -7.44     -5.74      8.45      1.00\n",
      "Param:0[20]    -14.14      0.68    -14.13    -15.11    -13.16      2.59      2.48\n",
      "Param:0[21]      5.05      0.25      4.98      4.72      5.46      3.38      1.72\n",
      "Param:0[22]      1.46      0.41      1.49      0.84      2.22      3.58      1.89\n",
      "Param:0[23]     -4.04      0.42     -4.07     -4.73     -3.47      3.97      1.82\n",
      "Param:0[24]     -7.94      1.89     -7.75    -11.41     -5.26      2.97      2.36\n",
      "Param:0[25]     -0.50      0.55     -0.55     -1.22      0.30      2.99      2.22\n",
      "Param:0[26]     -2.05      0.53     -2.09     -2.85     -1.06      9.19      1.39\n",
      "Param:0[27]      5.06      1.25      5.22      3.21      7.47      4.65      1.36\n",
      "Param:0[28]      8.44      0.82      8.39      7.00      9.66      4.58      1.64\n",
      "Param:0[29]      0.19      0.28      0.26     -0.38      0.54      3.76      1.61\n",
      "Param:0[30]     14.60      1.78     15.01     11.66     17.62      3.66      1.63\n",
      "Param:0[31]     20.82      0.90     20.76     19.62     22.35      5.42      1.29\n",
      "Param:0[32]    -31.48      3.68    -31.31    -37.17    -25.47      5.27      1.00\n",
      "Param:0[33]    -42.52      1.82    -42.42    -45.33    -39.70     26.26      1.01\n",
      "Param:0[34]    -49.77      3.01    -50.29    -54.42    -46.00      2.74      2.70\n",
      "Param:0[35]     17.45      2.33     17.69     13.41     21.19      4.13      1.76\n",
      "Param:0[36]      4.63      6.34      5.31     -5.43     13.28      3.42      1.61\n",
      "Param:0[37]     13.86      4.16     12.31      8.42     20.54      4.86      1.02\n",
      "Param:0[38]      0.78      1.44      0.71     -1.81      2.61     13.06      1.09\n",
      "Param:0[39]     28.69      2.32     27.99     25.57     32.94      4.43      1.47\n",
      "Param:0[40]    -20.61      2.50    -20.76    -23.80    -16.05      7.42      1.47\n",
      "Param:0[41]    -53.15      9.93    -51.85    -68.62    -35.56      7.21      1.08\n",
      "Param:0[42]      2.50      2.45      2.10     -1.07      5.54     10.09      1.02\n",
      "Param:0[43]      0.90      0.26      0.88      0.53      1.41      3.39      2.19\n",
      "Param:0[44]    -99.67      4.76    -98.73   -107.37    -92.83      6.72      1.09\n",
      "Param:0[45]   -115.56     11.62   -116.65   -134.54    -93.48      8.19      1.00\n",
      "Param:0[46]     -1.78      0.41     -1.73     -2.51     -1.21      4.37      1.60\n",
      "Param:0[47]    106.94      5.34    107.00     98.59    115.20      6.45      1.00\n",
      "Param:0[48]      9.21      1.05      9.52      7.30     10.58      3.92      1.52\n",
      "Param:0[49]     23.49     11.20     26.47      1.60     37.24      3.97      1.60\n",
      "Param:0[50]     -3.87      0.64     -3.84     -5.00     -2.86     11.39      1.01\n",
      "Param:0[51]    -30.30      4.26    -29.63    -39.68    -24.57      5.93      1.08\n",
      "Param:0[52]      9.28      0.64      9.41      7.95     10.14      6.93      1.01\n",
      "Param:0[53]     22.34      4.76     20.76     16.82     31.59      3.29      1.54\n",
      "Param:0[54]    262.73     36.32    270.82    191.77    306.70      8.09      1.05\n",
      "\n",
      "\n"
     ]
    }
   ],
   "source": [
    "init_params = random.normal(random.PRNGKey(1), (latent_size,))\n",
    "_, potential_fn, _ = initialize_model(rng, model, X, y, prior_scale=1 / K)\n",
    "transformed_potential_fn = make_transformed_pe(potential_fn, transform, unpack_fn, 1 / K)\n",
    "samples = mcmc(num_warmup=1000, num_samples=2500, init_params=init_params,\n",
    "               num_chains=1, potential_fn=transformed_potential_fn)"
   ]
  },
  {
   "cell_type": "code",
   "execution_count": 94,
   "metadata": {},
   "outputs": [],
   "source": [
    "flow_samples = vmap(lambda x: unpack_fn(transform(x)))(samples)"
   ]
  },
  {
   "cell_type": "code",
   "execution_count": 82,
   "metadata": {},
   "outputs": [],
   "source": [
    "from numpyro.diagnostics import summary"
   ]
  },
  {
   "cell_type": "code",
   "execution_count": 97,
   "metadata": {},
   "outputs": [
    {
     "data": {
      "text/plain": [
       "DeviceArray(0.7682474, dtype=float32)"
      ]
     },
     "execution_count": 97,
     "metadata": {},
     "output_type": "execute_result"
    }
   ],
   "source": [
    "rngs = random.split(random.PRNGKey(2), 2500)\n",
    "y_flow = vmap(partial(predict, model, X_test))(rngs, flow_samples)\n",
    "y_flow = (y_flow.sum(axis=0) / y_flow.shape[0]) >= 0.5\n",
    "acc = (y_flow == y_test).sum() / y_test.shape[0]\n",
    "acc"
   ]
  },
  {
   "cell_type": "code",
   "execution_count": 92,
   "metadata": {},
   "outputs": [
    {
     "name": "stdout",
     "output_type": "stream",
     "text": [
      "\n",
      "\n",
      "                mean       std    median      5.0%     95.0%     n_eff     r_hat\n",
      "  coefs[0]      1.97      0.07      1.97      1.86      2.09     17.99      1.01\n",
      "  coefs[1]     -0.02      0.02     -0.02     -0.05      0.02     21.80      1.02\n",
      "  coefs[2]     -0.12      0.02     -0.12     -0.14     -0.08      8.34      1.05\n",
      "  coefs[3]     -0.31      0.02     -0.31     -0.34     -0.28      7.72      1.17\n",
      "  coefs[4]     -0.11      0.02     -0.11     -0.14     -0.08     10.66      1.01\n",
      "  coefs[5]     -0.10      0.02     -0.09     -0.12     -0.07     65.96      1.00\n",
      "  coefs[6]      0.01      0.02      0.01     -0.03      0.05      7.04      1.15\n",
      "  coefs[7]     -0.49      0.03     -0.49     -0.53     -0.44     14.74      1.00\n",
      "  coefs[8]      0.24      0.02      0.23      0.20      0.27      5.82      1.47\n",
      "  coefs[9]     -0.01      0.01     -0.01     -0.03      0.02      6.66      1.48\n",
      " coefs[10]      1.67      0.04      1.68      1.61      1.74      6.33      1.03\n",
      " coefs[11]      0.53      0.02      0.53      0.49      0.57     11.40      1.22\n",
      " coefs[12]      1.44      0.03      1.44      1.39      1.50      7.69      1.05\n",
      " coefs[13]     -0.80      0.22     -0.81     -1.13     -0.50      3.51      1.65\n",
      " coefs[14]     -2.65      0.16     -2.65     -2.92     -2.38     10.49      1.06\n",
      " coefs[15]     -0.95      0.16     -0.92     -1.23     -0.68      5.82      1.14\n",
      " coefs[16]     -0.74      0.12     -0.78     -0.90     -0.53      4.76      1.15\n",
      " coefs[17]     -0.21      0.02     -0.20     -0.25     -0.17     17.49      1.02\n",
      " coefs[18]     -0.06      0.11     -0.07     -0.23      0.12      5.46      1.10\n",
      " coefs[19]     -1.63      0.07     -1.63     -1.73     -1.50      8.42      1.22\n",
      " coefs[20]     -2.43      0.15     -2.45     -2.66     -2.20      2.83      2.25\n",
      " coefs[21]      0.00      0.02     -0.00     -0.03      0.03      6.51      1.23\n",
      " coefs[22]     -0.03      0.02     -0.03     -0.07      0.00      3.49      2.16\n",
      " coefs[23]     -0.14      0.04     -0.14     -0.22     -0.09      3.17      2.54\n",
      " coefs[24]     -0.17      0.04     -0.17     -0.25     -0.11      4.80      1.64\n",
      " coefs[25]     -0.02      0.03     -0.02     -0.05      0.03      4.50      1.61\n",
      " coefs[26]     -0.04      0.01     -0.04     -0.06     -0.02     10.97      1.32\n",
      " coefs[27]     -1.01      0.05     -1.00     -1.10     -0.94      6.59      1.02\n",
      " coefs[28]      0.36      0.36      0.35     -0.23      0.93      2.95      2.12\n",
      " coefs[29]      0.09      0.02      0.09      0.06      0.12      5.30      1.13\n",
      " coefs[30]      0.10      0.03      0.10      0.05      0.15     32.94      1.14\n",
      " coefs[31]      0.05      0.04      0.05     -0.02      0.11      9.05      1.01\n",
      " coefs[32]      0.12      0.01      0.12      0.10      0.13      4.93      1.31\n",
      " coefs[33]      0.11      0.01      0.11      0.09      0.14      9.51      1.19\n",
      " coefs[34]      0.07      0.03      0.07      0.02      0.12     40.27      1.01\n",
      " coefs[35]      0.35      0.02      0.35      0.32      0.38      4.23      1.46\n",
      " coefs[36]      0.36      0.02      0.36      0.33      0.38     10.62      1.04\n",
      " coefs[37]      0.16      0.01      0.16      0.14      0.18     11.52      1.00\n",
      " coefs[38]     -0.02      0.02     -0.02     -0.05      0.01     27.97      1.04\n",
      " coefs[39]     -0.01      0.03     -0.01     -0.05      0.03     17.64      1.04\n",
      " coefs[40]      0.00      0.02      0.00     -0.04      0.04     16.42      1.15\n",
      " coefs[41]     -1.13      0.11     -1.12     -1.31     -0.99      8.21      1.09\n",
      " coefs[42]      0.09      0.02      0.09      0.07      0.12      9.71      1.28\n",
      " coefs[43]     -0.08      0.02     -0.07     -0.12     -0.04      8.79      1.26\n",
      " coefs[44]      0.14      0.02      0.15      0.10      0.18      5.45      1.52\n",
      " coefs[45]      0.09      0.02      0.08      0.06      0.12     15.35      1.09\n",
      " coefs[46]      0.16      0.02      0.16      0.14      0.19     20.08      1.02\n",
      " coefs[47]     -0.01      0.03     -0.01     -0.06      0.05     22.08      1.16\n",
      " coefs[48]     -0.09      0.02     -0.09     -0.11     -0.05     27.91      1.19\n",
      " coefs[49]      1.08      0.15      1.07      0.83      1.31      6.21      1.15\n",
      " coefs[50]     -1.99      0.29     -1.95     -2.48     -1.56     15.78      1.00\n",
      " coefs[51]     -0.11      0.02     -0.11     -0.14     -0.07     11.80      1.24\n",
      " coefs[52]     -0.13      0.02     -0.12     -0.16     -0.10     18.72      1.00\n",
      " coefs[53]     -0.15      0.02     -0.15     -0.19     -0.12     48.88      1.03\n",
      " coefs[54]     -2.20      0.06     -2.21     -2.28     -2.09      4.78      1.54\n",
      "\n",
      "\n"
     ]
    }
   ],
   "source": [
    "summary({'coefs': real_samples['coefs'][None, ...]})"
   ]
  },
  {
   "cell_type": "code",
   "execution_count": 52,
   "metadata": {},
   "outputs": [],
   "source": [
    "X, y = shards[0]"
   ]
  },
  {
   "cell_type": "code",
   "execution_count": 51,
   "metadata": {},
   "outputs": [
    {
     "name": "stdout",
     "output_type": "stream",
     "text": [
      "\n",
      " =============================== SUBPOSTERIOR 00 ===============================\n",
      "\n",
      "                 mean       std    median      5.0%     95.0%     n_eff     r_hat\n"
     ]
    },
    {
     "ename": "KeyboardInterrupt",
     "evalue": "",
     "output_type": "error",
     "traceback": [
      "\u001b[0;31m---------------------------------------------------------------------------\u001b[0m",
      "\u001b[0;31mKeyboardInterrupt\u001b[0m                         Traceback (most recent call last)",
      "\u001b[0;32m<ipython-input-51-124cdeca60c4>\u001b[0m in \u001b[0;36m<module>\u001b[0;34m\u001b[0m\n\u001b[1;32m      6\u001b[0m     \u001b[0msep\u001b[0m \u001b[0;34m=\u001b[0m \u001b[0;34m'='\u001b[0m \u001b[0;34m*\u001b[0m \u001b[0;36m31\u001b[0m\u001b[0;34m\u001b[0m\u001b[0;34m\u001b[0m\u001b[0m\n\u001b[1;32m      7\u001b[0m     \u001b[0mprint\u001b[0m\u001b[0;34m(\u001b[0m\u001b[0;34m'\\n '\u001b[0m \u001b[0;34m+\u001b[0m \u001b[0msep\u001b[0m \u001b[0;34m+\u001b[0m \u001b[0;34m' SUBPOSTERIOR {:02d} '\u001b[0m\u001b[0;34m.\u001b[0m\u001b[0mformat\u001b[0m\u001b[0;34m(\u001b[0m\u001b[0mi\u001b[0m\u001b[0;34m)\u001b[0m \u001b[0;34m+\u001b[0m \u001b[0msep\u001b[0m\u001b[0;34m,\u001b[0m \u001b[0mend\u001b[0m\u001b[0;34m=\u001b[0m\u001b[0;34m''\u001b[0m\u001b[0;34m)\u001b[0m\u001b[0;34m\u001b[0m\u001b[0;34m\u001b[0m\u001b[0m\n\u001b[0;32m----> 8\u001b[0;31m     \u001b[0msamples\u001b[0m \u001b[0;34m=\u001b[0m \u001b[0mget_flow_subposterior\u001b[0m\u001b[0;34m(\u001b[0m\u001b[0mrng\u001b[0m\u001b[0;34m,\u001b[0m \u001b[0mshard\u001b[0m\u001b[0;34m,\u001b[0m \u001b[0mK\u001b[0m\u001b[0;34m)\u001b[0m\u001b[0;34m\u001b[0m\u001b[0;34m\u001b[0m\u001b[0m\n\u001b[0m\u001b[1;32m      9\u001b[0m     \u001b[0;32mif\u001b[0m \u001b[0;32mnot\u001b[0m \u001b[0mos\u001b[0m\u001b[0;34m.\u001b[0m\u001b[0mpath\u001b[0m\u001b[0;34m.\u001b[0m\u001b[0mexists\u001b[0m\u001b[0;34m(\u001b[0m\u001b[0;34m'.results/flow'\u001b[0m\u001b[0;34m)\u001b[0m\u001b[0;34m:\u001b[0m\u001b[0;34m\u001b[0m\u001b[0;34m\u001b[0m\u001b[0m\n\u001b[1;32m     10\u001b[0m         \u001b[0mos\u001b[0m\u001b[0;34m.\u001b[0m\u001b[0mmakedirs\u001b[0m\u001b[0;34m(\u001b[0m\u001b[0;34m'.results/flow'\u001b[0m\u001b[0;34m)\u001b[0m\u001b[0;34m\u001b[0m\u001b[0;34m\u001b[0m\u001b[0m\n",
      "\u001b[0;32m<ipython-input-50-01ecbd4c636c>\u001b[0m in \u001b[0;36mget_flow_subposterior\u001b[0;34m(rng, shard, K)\u001b[0m\n\u001b[1;32m      5\u001b[0m     \u001b[0mtransformed_potential_fn\u001b[0m \u001b[0;34m=\u001b[0m \u001b[0mmake_transformed_pe\u001b[0m\u001b[0;34m(\u001b[0m\u001b[0mpotential_fn\u001b[0m\u001b[0;34m,\u001b[0m \u001b[0mtransform\u001b[0m\u001b[0;34m,\u001b[0m \u001b[0munpack_fn\u001b[0m\u001b[0;34m)\u001b[0m\u001b[0;34m\u001b[0m\u001b[0;34m\u001b[0m\u001b[0m\n\u001b[1;32m      6\u001b[0m     samples = mcmc(num_warmup=1000, num_samples=2500, init_params=init_params,\n\u001b[0;32m----> 7\u001b[0;31m                    num_chains=4, potential_fn=transformed_potential_fn)\n\u001b[0m\u001b[1;32m      8\u001b[0m     \u001b[0;32mreturn\u001b[0m \u001b[0msamples\u001b[0m\u001b[0;34m\u001b[0m\u001b[0;34m\u001b[0m\u001b[0m\n",
      "\u001b[0;32m~/numpyro/numpyro/mcmc.py\u001b[0m in \u001b[0;36mmcmc\u001b[0;34m(num_warmup, num_samples, init_params, num_chains, sampler, constrain_fn, print_summary, **sampler_kwargs)\u001b[0m\n\u001b[1;32m    425\u001b[0m \u001b[0;34m\u001b[0m\u001b[0m\n\u001b[1;32m    426\u001b[0m         \u001b[0;32mif\u001b[0m \u001b[0mprint_summary\u001b[0m\u001b[0;34m:\u001b[0m\u001b[0;34m\u001b[0m\u001b[0;34m\u001b[0m\u001b[0m\n\u001b[0;32m--> 427\u001b[0;31m             \u001b[0msummary\u001b[0m\u001b[0;34m(\u001b[0m\u001b[0msamples\u001b[0m\u001b[0;34m)\u001b[0m\u001b[0;34m\u001b[0m\u001b[0;34m\u001b[0m\u001b[0m\n\u001b[0m\u001b[1;32m    428\u001b[0m         \u001b[0;32mreturn\u001b[0m \u001b[0msamples_flat\u001b[0m\u001b[0;34m\u001b[0m\u001b[0;34m\u001b[0m\u001b[0m\n\u001b[1;32m    429\u001b[0m     \u001b[0;32melse\u001b[0m\u001b[0;34m:\u001b[0m\u001b[0;34m\u001b[0m\u001b[0;34m\u001b[0m\u001b[0m\n",
      "\u001b[0;32m~/numpyro/numpyro/diagnostics.py\u001b[0m in \u001b[0;36msummary\u001b[0;34m(samples, prob)\u001b[0m\n\u001b[1;32m    223\u001b[0m     \u001b[0mrow_format\u001b[0m \u001b[0;34m=\u001b[0m \u001b[0mname_format\u001b[0m \u001b[0;34m+\u001b[0m \u001b[0;34m' {:>9.2f} {:>9.2f} {:>9.2f} {:>9.2f} {:>9.2f} {:>9.2f} {:>9.2f}'\u001b[0m\u001b[0;34m\u001b[0m\u001b[0;34m\u001b[0m\u001b[0m\n\u001b[1;32m    224\u001b[0m     \u001b[0;32mfor\u001b[0m \u001b[0mname\u001b[0m\u001b[0;34m,\u001b[0m \u001b[0mvalue\u001b[0m \u001b[0;32min\u001b[0m \u001b[0msamples\u001b[0m\u001b[0;34m.\u001b[0m\u001b[0mitems\u001b[0m\u001b[0;34m(\u001b[0m\u001b[0;34m)\u001b[0m\u001b[0;34m:\u001b[0m\u001b[0;34m\u001b[0m\u001b[0;34m\u001b[0m\u001b[0m\n\u001b[0;32m--> 225\u001b[0;31m         \u001b[0mvalue\u001b[0m \u001b[0;34m=\u001b[0m \u001b[0mdevice_get\u001b[0m\u001b[0;34m(\u001b[0m\u001b[0mvalue\u001b[0m\u001b[0;34m)\u001b[0m\u001b[0;34m\u001b[0m\u001b[0;34m\u001b[0m\u001b[0m\n\u001b[0m\u001b[1;32m    226\u001b[0m         \u001b[0mvalue_flat\u001b[0m \u001b[0;34m=\u001b[0m \u001b[0monp\u001b[0m\u001b[0;34m.\u001b[0m\u001b[0mreshape\u001b[0m\u001b[0;34m(\u001b[0m\u001b[0mvalue\u001b[0m\u001b[0;34m,\u001b[0m \u001b[0;34m(\u001b[0m\u001b[0;34m-\u001b[0m\u001b[0;36m1\u001b[0m\u001b[0;34m,\u001b[0m\u001b[0;34m)\u001b[0m \u001b[0;34m+\u001b[0m \u001b[0mvalue\u001b[0m\u001b[0;34m.\u001b[0m\u001b[0mshape\u001b[0m\u001b[0;34m[\u001b[0m\u001b[0;36m2\u001b[0m\u001b[0;34m:\u001b[0m\u001b[0;34m]\u001b[0m\u001b[0;34m)\u001b[0m\u001b[0;34m\u001b[0m\u001b[0;34m\u001b[0m\u001b[0m\n\u001b[1;32m    227\u001b[0m         \u001b[0mmean\u001b[0m \u001b[0;34m=\u001b[0m \u001b[0mvalue_flat\u001b[0m\u001b[0;34m.\u001b[0m\u001b[0mmean\u001b[0m\u001b[0;34m(\u001b[0m\u001b[0maxis\u001b[0m\u001b[0;34m=\u001b[0m\u001b[0;36m0\u001b[0m\u001b[0;34m)\u001b[0m\u001b[0;34m\u001b[0m\u001b[0;34m\u001b[0m\u001b[0m\n",
      "\u001b[0;32m~/miniconda3/envs/pydata/lib/python3.6/site-packages/jax/api.py\u001b[0m in \u001b[0;36mdevice_get\u001b[0;34m(x)\u001b[0m\n\u001b[1;32m   1109\u001b[0m   \u001b[0;32mfor\u001b[0m \u001b[0my\u001b[0m \u001b[0;32min\u001b[0m \u001b[0mtree_leaves\u001b[0m\u001b[0;34m(\u001b[0m\u001b[0mx\u001b[0m\u001b[0;34m)\u001b[0m\u001b[0;34m:\u001b[0m\u001b[0;34m\u001b[0m\u001b[0;34m\u001b[0m\u001b[0m\n\u001b[1;32m   1110\u001b[0m     \u001b[0;32mtry\u001b[0m\u001b[0;34m:\u001b[0m\u001b[0;34m\u001b[0m\u001b[0;34m\u001b[0m\u001b[0m\n\u001b[0;32m-> 1111\u001b[0;31m       \u001b[0my\u001b[0m\u001b[0;34m.\u001b[0m\u001b[0mcopy_to_host_async\u001b[0m\u001b[0;34m(\u001b[0m\u001b[0;34m)\u001b[0m\u001b[0;34m\u001b[0m\u001b[0;34m\u001b[0m\u001b[0m\n\u001b[0m\u001b[1;32m   1112\u001b[0m     \u001b[0;32mexcept\u001b[0m \u001b[0mAttributeError\u001b[0m\u001b[0;34m:\u001b[0m\u001b[0;34m\u001b[0m\u001b[0;34m\u001b[0m\u001b[0m\n\u001b[1;32m   1113\u001b[0m       \u001b[0;32mpass\u001b[0m\u001b[0;34m\u001b[0m\u001b[0;34m\u001b[0m\u001b[0m\n",
      "\u001b[0;32m~/miniconda3/envs/pydata/lib/python3.6/site-packages/jax/interpreters/pxla.py\u001b[0m in \u001b[0;36mcopy_to_host_async\u001b[0;34m(self)\u001b[0m\n\u001b[1;32m    448\u001b[0m     \u001b[0;32mif\u001b[0m \u001b[0mself\u001b[0m\u001b[0;34m.\u001b[0m\u001b[0m_npy_value\u001b[0m \u001b[0;32mis\u001b[0m \u001b[0;32mNone\u001b[0m\u001b[0;34m:\u001b[0m\u001b[0;34m\u001b[0m\u001b[0;34m\u001b[0m\u001b[0m\n\u001b[1;32m    449\u001b[0m       \u001b[0;32mfor\u001b[0m \u001b[0mbuf\u001b[0m \u001b[0;32min\u001b[0m \u001b[0mself\u001b[0m\u001b[0;34m.\u001b[0m\u001b[0mdevice_buffers\u001b[0m\u001b[0;34m:\u001b[0m\u001b[0;34m\u001b[0m\u001b[0;34m\u001b[0m\u001b[0m\n\u001b[0;32m--> 450\u001b[0;31m         \u001b[0mbuf\u001b[0m\u001b[0;34m.\u001b[0m\u001b[0mcopy_to_host_async\u001b[0m\u001b[0;34m(\u001b[0m\u001b[0;34m)\u001b[0m\u001b[0;34m\u001b[0m\u001b[0;34m\u001b[0m\u001b[0m\n\u001b[0m\u001b[1;32m    451\u001b[0m \u001b[0;34m\u001b[0m\u001b[0m\n\u001b[1;32m    452\u001b[0m   \u001b[0;32mdef\u001b[0m \u001b[0mdelete\u001b[0m\u001b[0;34m(\u001b[0m\u001b[0mself\u001b[0m\u001b[0;34m)\u001b[0m\u001b[0;34m:\u001b[0m\u001b[0;34m\u001b[0m\u001b[0;34m\u001b[0m\u001b[0m\n",
      "\u001b[0;31mKeyboardInterrupt\u001b[0m: "
     ]
    }
   ],
   "source": [
    "rngs = random.split(random.PRNGKey(1), K)\n",
    "subposteriors = []\n",
    "for i, (rng, shard) in enumerate(zip(rngs, shards)):\n",
    "    if i > 0:\n",
    "        break\n",
    "    sep = '=' * 31\n",
    "    print('\\n ' + sep + ' SUBPOSTERIOR {:02d} '.format(i) + sep, end='')\n",
    "    samples = get_flow_subposterior(rng, shard, K)\n",
    "    if not os.path.exists('.results/flow'):\n",
    "        os.makedirs('.results/flow')\n",
    "    np.save('.results/flow/subposterior_{:02d}.npy'.format(i), samples)\n",
    "    subposteriors.append(samples)"
   ]
  }
 ],
 "metadata": {
  "kernelspec": {
   "display_name": "Python (pydata)",
   "language": "python",
   "name": "pydata"
  },
  "language_info": {
   "codemirror_mode": {
    "name": "ipython",
    "version": 3
   },
   "file_extension": ".py",
   "mimetype": "text/x-python",
   "name": "python",
   "nbconvert_exporter": "python",
   "pygments_lexer": "ipython3",
   "version": "3.6.9"
  }
 },
 "nbformat": 4,
 "nbformat_minor": 4
}
