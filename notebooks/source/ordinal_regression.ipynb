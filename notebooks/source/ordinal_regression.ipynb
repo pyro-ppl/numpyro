{
 "cells": [
  {
   "cell_type": "markdown",
   "metadata": {},
   "source": [
    "# Ordinal Regression"
   ]
  },
  {
   "cell_type": "markdown",
   "metadata": {},
   "source": [
    "Some data are discrete but intrinsically **ordered**, these are called [**ordinal**](https://en.wikipedia.org/wiki/Ordinal_data) data. One example is the [likert scale](https://en.wikipedia.org/wiki/Likert_scale) for questionairs (\"this is an informative tutorial\": 1. strongly disagree / 2. disagree / 3. neither agree nor disagree / 4. agree / 5. strongly agree). Ordinal data is also ubiquitous in the medical world (e.g. the [Glasgow Coma Scale](https://en.wikipedia.org/wiki/Glasgow_Coma_Scale) for measuring neurological disfunctioning). \n",
    "\n",
    "This poses a challenge for statistical modeling as the data do not fit the most well known modelling approaches (e.g. linear regression). Modeling the data as [categorical](https://en.wikipedia.org/wiki/Categorical_distribution) is one possibility, but it disregards the inherent ordering in the data, and may be less statistically efficient. There are multiple appoaches for modeling ordered data. Here we will show how to use the OrderedLogistic distribution using cutpoints that are sampled from Improper priors, from a Normal distribution and induced via categories' probabilities from Dirichlet distribution. For a more in-depth discussion of Bayesian modeling of ordinal data, see e.g. [Michael Betancourt's Ordinal Regression case study](https://betanalpha.github.io/assets/case_studies/ordinal_regression.html) \n",
    "\n",
    "**References:**\n",
    " 1. Betancourt, M. (2019), “Ordinal Regression”, (https://betanalpha.github.io/assets/case_studies/ordinal_regression.html)"
   ]
  },
  {
   "cell_type": "code",
   "execution_count": 1,
   "metadata": {},
   "outputs": [],
   "source": [
    "# !pip install -q numpyro@git+https://github.com/pyro-ppl/numpyro"
   ]
  },
  {
   "cell_type": "code",
   "execution_count": 2,
   "metadata": {},
   "outputs": [],
   "source": [
    "from jax import numpy as np, random\n",
    "import numpyro\n",
    "from numpyro import sample, handlers\n",
    "from numpyro.distributions import (\n",
    "    Categorical,\n",
    "    Dirichlet,\n",
    "    ImproperUniform,\n",
    "    Normal,\n",
    "    OrderedLogistic,\n",
    "    TransformedDistribution,\n",
    "    constraints,\n",
    "    transforms,\n",
    ")\n",
    "from numpyro.infer import MCMC, NUTS\n",
    "from numpyro.infer.reparam import TransformReparam\n",
    "\n",
    "import pandas as pd\n",
    "import seaborn as sns\n",
    "\n",
    "assert numpyro.__version__.startswith(\"0.8.0\")"
   ]
  },
  {
   "cell_type": "markdown",
   "metadata": {},
   "source": [
    "## Data Generation"
   ]
  },
  {
   "cell_type": "markdown",
   "metadata": {},
   "source": [
    "First, generate some data with ordinal structure"
   ]
  },
  {
   "cell_type": "code",
   "execution_count": 3,
   "metadata": {},
   "outputs": [
    {
     "name": "stdout",
     "output_type": "stream",
     "text": [
      "value counts of Y:\n",
      "1    19\n",
      "2    16\n",
      "0    15\n",
      "Name: Y, dtype: int64\n",
      "mean(X) for Y == 0: 0.042\n",
      "mean(X) for Y == 1: 0.832\n",
      "mean(X) for Y == 2: 1.448\n"
     ]
    }
   ],
   "source": [
    "simkeys = random.split(random.PRNGKey(1), 2)\n",
    "nsim = 50\n",
    "nclasses = 3\n",
    "Y = Categorical(logits=np.zeros(nclasses)).sample(simkeys[0], sample_shape=(nsim,))\n",
    "X = Normal().sample(simkeys[1], sample_shape=(nsim,))\n",
    "X += Y\n",
    "\n",
    "print(\"value counts of Y:\")\n",
    "df = pd.DataFrame({\"X\": X, \"Y\": Y})\n",
    "print(df.Y.value_counts())\n",
    "\n",
    "for i in range(nclasses):\n",
    "    print(f\"mean(X) for Y == {i}: {X[np.where(Y==i)].mean():.3f}\")"
   ]
  },
  {
   "cell_type": "code",
   "execution_count": 4,
   "metadata": {},
   "outputs": [
    {
     "data": {
      "image/png": "[encoded data removed]",
      "text/plain": [
       "<Figure size 432x288 with 1 Axes>"
      ]
     },
     "metadata": {
      "needs_background": "light"
     },
     "output_type": "display_data"
    }
   ],
   "source": [
    "sns.violinplot(x=\"Y\", y=\"X\", data=df);"
   ]
  },
  {
   "cell_type": "markdown",
   "metadata": {},
   "source": [
    "## Improper Prior"
   ]
  },
  {
   "cell_type": "markdown",
   "metadata": {},
   "source": [
    "We will model the outcomes Y as coming from an OrderedLogistic distribution, conditional on X. The `OrderedLogistic` distribution in numpyro requires ordered cutpoints. We can use the `ImproperUnifrom` distribution to introduce a parameter with an arbitrary support that is otherwise completely uninformative, and then add an `ordered_vector` constraint."
   ]
  },
  {
   "cell_type": "code",
   "execution_count": 5,
   "metadata": {},
   "outputs": [
    {
     "name": "stderr",
     "output_type": "stream",
     "text": [
      "sample: 100%|██████████| 1000/1000 [00:03<00:00, 258.56it/s, 7 steps of size 5.02e-01. acc. prob=0.94]\n"
     ]
    },
    {
     "name": "stdout",
     "output_type": "stream",
     "text": [
      "\n",
      "                mean       std    median      5.0%     95.0%     n_eff     r_hat\n",
      "   b_X_eta      1.44      0.37      1.42      0.83      2.05    349.38      1.01\n",
      "    c_y[0]     -0.10      0.38     -0.10     -0.71      0.51    365.63      1.00\n",
      "    c_y[1]      2.15      0.49      2.13      1.38      2.99    376.45      1.01\n",
      "\n",
      "Number of divergences: 0\n"
     ]
    }
   ],
   "source": [
    "def model1(X, Y, nclasses=3):\n",
    "    b_X_eta = sample(\"b_X_eta\", Normal(0, 5))\n",
    "    c_y = sample(\n",
    "        \"c_y\",\n",
    "        ImproperUniform(\n",
    "            support=constraints.ordered_vector,\n",
    "            batch_shape=(),\n",
    "            event_shape=(nclasses - 1,),\n",
    "        ),\n",
    "    )\n",
    "    with numpyro.plate(\"obs\", X.shape[0]):\n",
    "        eta = X * b_X_eta\n",
    "        sample(\"Y\", OrderedLogistic(eta, c_y), obs=Y)\n",
    "\n",
    "\n",
    "mcmc_key = random.PRNGKey(1234)\n",
    "kernel = NUTS(model1)\n",
    "mcmc = MCMC(kernel, num_warmup=250, num_samples=750)\n",
    "mcmc.run(mcmc_key, X, Y, nclasses)\n",
    "mcmc.print_summary()"
   ]
  },
  {
   "cell_type": "markdown",
   "metadata": {},
   "source": [
    "The `ImproperUniform` distribution allows us to use parameters with constraints on their domain, without adding any additional information e.g. about the location or scale of the prior distribution on that parameter.\n",
    "\n",
    "If we want to incorporate such information, for instance that the values of the cut-points should not be too far from zero, we can add an additional `sample` statement that uses another prior, coupled with an `obs` argument. In the example below we first sample cutpoints `c_y` from the `ImproperUniform` distribution with `constraints.ordered_vector` as before, and then `sample` a dummy parameter from a `Normal` distribution while conditioning on `c_y` using `obs=c_y`. Effectively, we've created an improper / unnormalized prior that results from restricting the support of a `Normal` distribution to the ordered domain"
   ]
  },
  {
   "cell_type": "code",
   "execution_count": 6,
   "metadata": {},
   "outputs": [
    {
     "name": "stderr",
     "output_type": "stream",
     "text": [
      "sample: 100%|██████████| 1000/1000 [00:03<00:00, 256.41it/s, 7 steps of size 5.31e-01. acc. prob=0.92]\n"
     ]
    },
    {
     "name": "stdout",
     "output_type": "stream",
     "text": [
      "\n",
      "                mean       std    median      5.0%     95.0%     n_eff     r_hat\n",
      "   b_X_eta      1.23      0.31      1.23      0.64      1.68    501.31      1.01\n",
      "    c_y[0]     -0.24      0.34     -0.23     -0.76      0.38    492.91      1.00\n",
      "    c_y[1]      1.77      0.40      1.76      1.11      2.42    628.46      1.00\n",
      "\n",
      "Number of divergences: 0\n"
     ]
    }
   ],
   "source": [
    "def model2(X, Y, nclasses=3):\n",
    "    b_X_eta = sample(\"b_X_eta\", Normal(0, 5))\n",
    "    c_y = sample(\n",
    "        \"c_y\",\n",
    "        ImproperUniform(\n",
    "            support=constraints.ordered_vector,\n",
    "            batch_shape=(),\n",
    "            event_shape=(nclasses - 1,),\n",
    "        ),\n",
    "    )\n",
    "    sample(\"c_y_smp\", Normal(0, 1), obs=c_y)\n",
    "    with numpyro.plate(\"obs\", X.shape[0]):\n",
    "        eta = X * b_X_eta\n",
    "        sample(\"Y\", OrderedLogistic(eta, c_y), obs=Y)\n",
    "\n",
    "\n",
    "kernel = NUTS(model2)\n",
    "mcmc = MCMC(kernel, num_warmup=250, num_samples=750)\n",
    "mcmc.run(mcmc_key, X, Y, nclasses)\n",
    "mcmc.print_summary()"
   ]
  },
  {
   "cell_type": "markdown",
   "metadata": {},
   "source": [
    "## Proper Prior"
   ]
  },
  {
   "cell_type": "markdown",
   "metadata": {},
   "source": [
    "If having a proper prior for those cutpoints `c_y` is desirable (e.g. to sample from that prior and get [prior predictive](https://en.wikipedia.org/wiki/Posterior_predictive_distribution#Prior_vs._posterior_predictive_distribution)), we can use [TransformedDistribution](http://num.pyro.ai/en/stable/distributions.html#transformeddistribution) with an [OrderedTransform](http://num.pyro.ai/en/stable/distributions.html#orderedtransform) transform as follows."
   ]
  },
  {
   "cell_type": "code",
   "execution_count": 7,
   "metadata": {},
   "outputs": [
    {
     "name": "stderr",
     "output_type": "stream",
     "text": [
      "sample: 100%|██████████| 1000/1000 [00:04<00:00, 244.78it/s, 7 steps of size 5.54e-01. acc. prob=0.93]\n"
     ]
    },
    {
     "name": "stdout",
     "output_type": "stream",
     "text": [
      "\n",
      "                mean       std    median      5.0%     95.0%     n_eff     r_hat\n",
      "   b_X_eta      1.40      0.34      1.41      0.86      1.98    300.30      1.03\n",
      "    c_y[0]     -0.03      0.35     -0.03     -0.57      0.54    395.98      1.00\n",
      "    c_y[1]      2.06      0.47      2.04      1.26      2.83    475.16      1.01\n",
      "\n",
      "Number of divergences: 0\n"
     ]
    }
   ],
   "source": [
    "def model3(X, Y, nclasses=3):\n",
    "    b_X_eta = sample(\"b_X_eta\", Normal(0, 5))\n",
    "    c_y = sample(\n",
    "        \"c_y\",\n",
    "        TransformedDistribution(\n",
    "            Normal(0, 1).expand([nclasses - 1]), transforms.OrderedTransform()\n",
    "        ),\n",
    "    )\n",
    "    with numpyro.plate(\"obs\", X.shape[0]):\n",
    "        eta = X * b_X_eta\n",
    "        sample(\"Y\", OrderedLogistic(eta, c_y), obs=Y)\n",
    "\n",
    "\n",
    "kernel = NUTS(model3)\n",
    "mcmc = MCMC(kernel, num_warmup=250, num_samples=750)\n",
    "mcmc.run(mcmc_key, X, Y, nclasses)\n",
    "mcmc.print_summary()"
   ]
  },
  {
   "cell_type": "markdown",
   "metadata": {},
   "source": [
    "## Principled prior with Dirichlet Distribution"
   ]
  },
  {
   "cell_type": "markdown",
   "metadata": {},
   "source": [
    "It is non-trivial to apply our expertise over the cutpoints in latent space (even more so when we are having to provide a prior before applying the OrderedTransform). \n",
    "\n",
    "Natural inclination would be to apply Dirichlet prior model to the ordinal probabilities. We will follow proposal by M.Betancourt ([1], Section 2.2) and use [Dirichlet](http://num.pyro.ai/en/stable/distributions.html#dirichlet) prior model to induce cutpoints indirectly via [SimplexToOrderedTransform](http://num.pyro.ai/en/stable/distributions.html#simplextoorderedtransform). \n",
    "This approach should be advantageous when there is a need for strong prior knowledge to be added to our Ordinal model, eg, when one of the categories is missing in our dataset or when some categories are strongly separated (leading to non-identifiability of the cutpoints). Moreover, such parametrization allows us to sample our model and conduct prior predictive checks (unlike `model1` with `ImproperUniform`).\n",
    "\n",
    "We can sample cutpoints directly from `TransformedDistribution(Dirichlet(concentration),transforms.SimplexToOrderedTransform(anchor_point))`. However, if we use the Transform within the `reparam handler` context, we can capture not only the induced cutpoints, but also the sampled Ordinal probabilities implied by the `concentration` parameter. `anchor_point` is a nuisance parameter to improve identifiability of our transformation (for details please see [1], Section 2.2)\n",
    "\n",
    "Please note that we cannot compare latent cutpoints or b_X_eta separately across the various models as they are inherently linked."
   ]
  },
  {
   "cell_type": "code",
   "execution_count": 8,
   "metadata": {},
   "outputs": [],
   "source": [
    "# We will apply a nudge towards equal probability for each category (corresponds to equal logits of the true data generating process)\n",
    "concentration = np.ones((nclasses,)) * 10.0"
   ]
  },
  {
   "cell_type": "code",
   "execution_count": 9,
   "metadata": {},
   "outputs": [
    {
     "name": "stderr",
     "output_type": "stream",
     "text": [
      "sample: 100%|██████████| 1000/1000 [00:05<00:00, 193.88it/s, 7 steps of size 7.00e-01. acc. prob=0.93]\n"
     ]
    },
    {
     "name": "stdout",
     "output_type": "stream",
     "text": [
      "\n",
      "                 mean       std    median      5.0%     95.0%     n_eff     r_hat\n",
      "    b_X_eta      1.01      0.26      1.01      0.59      1.42    388.46      1.00\n",
      "     c_y[0]     -0.42      0.26     -0.42     -0.88     -0.05    491.73      1.00\n",
      "     c_y[1]      1.34      0.29      1.34      0.86      1.80    617.53      1.00\n",
      "c_y_base[0]      0.40      0.06      0.40      0.29      0.49    488.71      1.00\n",
      "c_y_base[1]      0.39      0.06      0.39      0.29      0.48    523.65      1.00\n",
      "c_y_base[2]      0.21      0.05      0.21      0.13      0.29    610.33      1.00\n",
      "\n",
      "Number of divergences: 0\n"
     ]
    }
   ],
   "source": [
    "def model4(X, Y, nclasses, concentration, anchor_point=0.0):\n",
    "    b_X_eta = sample(\"b_X_eta\", Normal(0, 5))\n",
    "\n",
    "    with handlers.reparam(config={\"c_y\": TransformReparam()}):\n",
    "        c_y = sample(\n",
    "            \"c_y\",\n",
    "            TransformedDistribution(\n",
    "                Dirichlet(concentration),\n",
    "                transforms.SimplexToOrderedTransform(anchor_point),\n",
    "            ),\n",
    "        )\n",
    "    with numpyro.plate(\"obs\", X.shape[0]):\n",
    "        eta = X * b_X_eta\n",
    "        sample(\"Y\", OrderedLogistic(eta, c_y), obs=Y)\n",
    "\n",
    "\n",
    "kernel = NUTS(model4)\n",
    "mcmc = MCMC(kernel, num_warmup=250, num_samples=750)\n",
    "mcmc.run(mcmc_key, X, Y, nclasses, concentration)\n",
    "# with exclude_deterministic=False, we will also show the ordinal probabilities sampled from Dirichlet (vis. `c_y_base`)\n",
    "mcmc.print_summary(exclude_deterministic=False)"
   ]
  }
 ],
 "metadata": {
  "kernelspec": {
   "display_name": "Python 3",
   "language": "python",
   "name": "python3"
  },
  "language_info": {
   "codemirror_mode": {
    "name": "ipython",
    "version": 3
   },
   "file_extension": ".py",
   "mimetype": "text/x-python",
   "name": "python",
   "nbconvert_exporter": "python",
   "pygments_lexer": "ipython3",
   "version": "3.8.8"
  }
 },
 "nbformat": 4,
 "nbformat_minor": 4
}
