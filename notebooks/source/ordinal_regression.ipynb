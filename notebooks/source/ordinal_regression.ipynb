{
 "cells": [
  {
   "cell_type": "markdown",
   "metadata": {},
   "source": [
    "# Ordinal Regression"
   ]
  },
  {
   "cell_type": "markdown",
   "metadata": {},
   "source": [
    "Some data are discrete but instrinsically **ordered**, these are called [**ordinal**](https://en.wikipedia.org/wiki/Ordinal_data) data. One example is the [likert scale](https://en.wikipedia.org/wiki/Likert_scale) for questionairs (\"this is an informative tutorial\": 1. strongly disagree / 2. disagree / 3. neither agree nor disagree / 4. agree / 5. strongly agree). Ordinal data is also ubiquitous in the medical world (e.g. the [Glasgow Coma Scale](https://en.wikipedia.org/wiki/Glasgow_Coma_Scale) for measuring neurological disfunctioning). \n",
    "\n",
    "This poses a challenge for statistical modeling as the data do not fit the most well known modelling approaches (e.g. linear regression). Modeling the data as [categorical](https://en.wikipedia.org/wiki/Categorical_distribution) is one possibility, but it disregards the inherent ordering in the data, and may be less statistically efficient. There are multiple appoaches for modeling ordered data. Here we will show how to use the OrderedLogistic distribution using cutpoints that are sampled from a Normal distribution with as additional constrain that the cutpoints they are ordered. For a more in-depth discussion of Bayesian modeling of ordinal data, see e.g. [Michael Betancour's blog](https://betanalpha.github.io/assets/case_studies/ordinal_regression.html)"
   ]
  },
  {
   "cell_type": "code",
   "execution_count": null,
   "metadata": {},
   "outputs": [],
   "source": [
    "!pip install -q numpyro@git+https://github.com/pyro-ppl/numpyro"
   ]
  },
  {
   "cell_type": "code",
   "execution_count": 1,
   "metadata": {},
   "outputs": [],
   "source": [
    "from jax import numpy as np, random\n",
    "import numpyro\n",
    "from numpyro import sample\n",
    "from numpyro.distributions import (Categorical, ImproperUniform, Normal, OrderedLogistic,\n",
    "                                   TransformedDistribution, constraints, transforms)\n",
    "from numpyro.infer import MCMC, NUTS\n",
    "import pandas as pd\n",
    "import seaborn as sns\n",
    "assert numpyro.__version__.startswith('0.7.2')"
   ]
  },
  {
   "cell_type": "markdown",
   "metadata": {},
   "source": [
    "First, generate some data with ordinal structure"
   ]
  },
  {
   "cell_type": "code",
   "execution_count": 2,
   "metadata": {},
   "outputs": [
    {
     "name": "stdout",
     "output_type": "stream",
     "text": [
      "value counts of Y:\n",
      "1    19\n",
      "2    16\n",
      "0    15\n",
      "Name: Y, dtype: int64\n",
      "mean(X) for Y == 0: 0.042\n",
      "mean(X) for Y == 1: 0.832\n",
      "mean(X) for Y == 2: 1.448\n"
     ]
    }
   ],
   "source": [
    "simkeys  = random.split(random.PRNGKey(1), 2)\n",
    "nsim     = 50\n",
    "nclasses = 3\n",
    "Y        = Categorical(logits=np.zeros(nclasses)).sample(simkeys[0], sample_shape=(nsim,))\n",
    "X        = Normal().sample(simkeys[1], sample_shape = (nsim,))\n",
    "X       += Y\n",
    "\n",
    "print(\"value counts of Y:\")\n",
    "df = pd.DataFrame({'X': X, 'Y': Y})\n",
    "print(df.Y.value_counts())\n",
    "\n",
    "for i in range(nclasses):\n",
    "    print(f\"mean(X) for Y == {i}: {X[np.where(Y==i)].mean():.3f}\")"
   ]
  },
  {
   "cell_type": "code",
   "execution_count": 3,
   "metadata": {},
   "outputs": [
    {
     "data": {
      "image/png": "[encoded data removed]",
      "text/plain": [
       "<Figure size 432x288 with 1 Axes>"
      ]
     },
     "metadata": {
      "needs_background": "light"
     },
     "output_type": "display_data"
    }
   ],
   "source": [
    "sns.violinplot(x='Y', y='X', data=df);"
   ]
  },
  {
   "cell_type": "markdown",
   "metadata": {},
   "source": [
    "We will model the outcomes Y as coming from an OrderedLogistic distribution, conditional on X. The `OrderedLogistic` distribution in numpyro requires ordered cutpoints. We can use the `ImproperUnifrom` distribution to introduce a parameter with an arbitrary support that is otherwise completely uninformative, and then add an `ordered_vector` constraint."
   ]
  },
  {
   "cell_type": "code",
   "execution_count": 4,
   "metadata": {},
   "outputs": [
    {
     "name": "stderr",
     "output_type": "stream",
     "text": [
      "sample: 100%|██████████| 1000/1000 [00:07<00:00, 126.55it/s, 7 steps of size 4.34e-01. acc. prob=0.95]\n"
     ]
    },
    {
     "name": "stdout",
     "output_type": "stream",
     "text": [
      "\n",
      "                mean       std    median      5.0%     95.0%     n_eff     r_hat\n",
      "   b_X_eta      1.43      0.35      1.42      0.82      1.96    352.72      1.00\n",
      "    c_y[0]     -0.11      0.41     -0.11     -0.78      0.55    505.85      1.00\n",
      "    c_y[1]      2.18      0.52      2.15      1.35      2.95    415.22      1.00\n",
      "\n",
      "Number of divergences: 0\n"
     ]
    }
   ],
   "source": [
    "def model1(X, Y, nclasses=3):\n",
    "    b_X_eta = sample('b_X_eta', Normal(0, 5))\n",
    "    c_y     = sample('c_y',     ImproperUniform(support=constraints.ordered_vector,\n",
    "                                                batch_shape=(),\n",
    "                                                event_shape=(nclasses-1,)))\n",
    "    with numpyro.plate('obs', X.shape[0]):\n",
    "        eta = X * b_X_eta\n",
    "        sample('Y', OrderedLogistic(eta, c_y), obs=Y)\n",
    "\n",
    "mcmc_key = random.PRNGKey(1234)\n",
    "kernel = NUTS(model1)\n",
    "mcmc   = MCMC(kernel, num_warmup=250, num_samples=750)\n",
    "mcmc.run(mcmc_key, X,Y, nclasses)\n",
    "mcmc.print_summary()"
   ]
  },
  {
   "cell_type": "markdown",
   "metadata": {},
   "source": [
    "The `ImproperUniform` distribution allows us to use parameters with constraints on their domain, without adding any additional information e.g. about the location or scale of the prior distribution on that parameter.\n",
    "\n",
    "If we want to incorporate such information, for instance that the values of the cut-points should not be too far from zero, we can add an additional `sample` statement that uses another prior, coupled with an `obs` argument. In the example below we first sample cutpoints `c_y` from the `ImproperUniform` distribution with `constraints.ordered_vector` as before, and then `sample` a dummy parameter from a `Normal` distribution while conditioning on `c_y` using `obs=c_y`. Effectively, we've created an improper / unnormalized prior that results from restricting the support of a `Normal` distribution to the ordered domain"
   ]
  },
  {
   "cell_type": "code",
   "execution_count": 5,
   "metadata": {},
   "outputs": [
    {
     "name": "stderr",
     "output_type": "stream",
     "text": [
      "sample: 100%|██████████| 1000/1000 [00:03<00:00, 315.02it/s, 7 steps of size 4.80e-01. acc. prob=0.94]\n"
     ]
    },
    {
     "name": "stdout",
     "output_type": "stream",
     "text": [
      "\n",
      "                mean       std    median      5.0%     95.0%     n_eff     r_hat\n",
      "   b_X_eta      1.23      0.30      1.23      0.69      1.65    535.41      1.00\n",
      "    c_y[0]     -0.25      0.33     -0.25     -0.82      0.27    461.96      1.00\n",
      "    c_y[1]      1.76      0.38      1.75      1.10      2.33    588.10      1.00\n",
      "\n",
      "Number of divergences: 0\n"
     ]
    }
   ],
   "source": [
    "def model2(X, Y, nclasses=3):\n",
    "    b_X_eta = sample('b_X_eta', Normal(0, 5))    \n",
    "    c_y     = sample('c_y',     ImproperUniform(support=constraints.ordered_vector,\n",
    "                                                batch_shape=(),\n",
    "                                                event_shape=(nclasses-1,)))\n",
    "    sample('c_y_smp', Normal(0,1), obs=c_y)\n",
    "    with numpyro.plate('obs', X.shape[0]):\n",
    "        eta = X * b_X_eta\n",
    "        sample('Y', OrderedLogistic(eta, c_y), obs=Y)\n",
    "\n",
    "kernel = NUTS(model2)\n",
    "mcmc   = MCMC(kernel, num_warmup=250, num_samples=750)\n",
    "mcmc.run(mcmc_key, X,Y, nclasses)\n",
    "mcmc.print_summary()"
   ]
  },
  {
   "cell_type": "markdown",
   "metadata": {},
   "source": [
    "If having a proper prior for those cutpoints `c_y` is desirable (e.g. to sample from that prior and get [prior predictive](https://en.wikipedia.org/wiki/Posterior_predictive_distribution#Prior_vs._posterior_predictive_distribution)), we can use [TransformedDistribution](http://num.pyro.ai/en/stable/distributions.html#transformeddistribution) with an [OrderedTransform](http://num.pyro.ai/en/stable/distributions.html#orderedtransform) transform as follows."
   ]
  },
  {
   "cell_type": "code",
   "execution_count": 6,
   "metadata": {},
   "outputs": [
    {
     "name": "stderr",
     "output_type": "stream",
     "text": [
      "sample: 100%|██████████| 1000/1000 [00:03<00:00, 282.20it/s, 7 steps of size 4.84e-01. acc. prob=0.94]"
     ]
    },
    {
     "name": "stdout",
     "output_type": "stream",
     "text": [
      "\n",
      "                mean       std    median      5.0%     95.0%     n_eff     r_hat\n",
      "   b_X_eta      1.41      0.34      1.40      0.88      2.00    444.42      1.00\n",
      "    c_y[0]     -0.05      0.36     -0.05     -0.58      0.54    591.60      1.00\n",
      "    c_y[1]      2.08      0.47      2.07      1.37      2.87    429.27      1.00\n",
      "\n",
      "Number of divergences: 0\n"
     ]
    },
    {
     "name": "stderr",
     "output_type": "stream",
     "text": [
      "\n"
     ]
    }
   ],
   "source": [
    "def model3(X, Y, nclasses=3):\n",
    "    b_X_eta = sample('b_X_eta', Normal(0, 5))    \n",
    "    c_y     = sample(\"c_y\",     TransformedDistribution(Normal(0, 1).expand([nclasses - 1]),\n",
    "                                                        transforms.OrderedTransform()))\n",
    "    with numpyro.plate('obs', X.shape[0]):\n",
    "        eta = X * b_X_eta\n",
    "        sample('Y', OrderedLogistic(eta, c_y), obs=Y)\n",
    "\n",
    "kernel = NUTS(model3)\n",
    "mcmc   = MCMC(kernel, num_warmup=250, num_samples=750)\n",
    "mcmc.run(mcmc_key, X,Y, nclasses)\n",
    "mcmc.print_summary()"
   ]
  }
 ],
 "metadata": {
  "kernelspec": {
   "display_name": "Python 3",
   "language": "python",
   "name": "python3"
  },
  "language_info": {
   "codemirror_mode": {
    "name": "ipython",
    "version": 3
   },
   "file_extension": ".py",
   "mimetype": "text/x-python",
   "name": "python",
   "nbconvert_exporter": "python",
   "pygments_lexer": "ipython3",
   "version": "3.8.8"
  }
 },
 "nbformat": 4,
 "nbformat_minor": 4
}
