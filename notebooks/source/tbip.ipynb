{
 "cells": [
  {
   "cell_type": "markdown",
   "metadata": {
    "id": "1ZlxP6qNoohn"
   },
   "source": [
    "# Text-Based Ideal Points using NumPyro\n",
    "\n",
    "## ___Szymon Sacher & Keyon Vafa___ This notebook replicates Text-Based Ideal Point model (Vafa, Naidu & Blei, 2020)\n",
    "\n",
    "This notebook is designed to run on Google Colab.\n",
    "\n",
    "**IMPORTANT:** To save this code and your results, make sure you copy to your personal Google Drive. Under \"File\", select \"Save a copy in Drive\".\n",
    "\n",
    "Use this Colab notebook to run a NumPyro implementation of the [text-based ideal point model (TBIP)](https://www.aclweb.org/anthology/2020.acl-main.475/) on a corpus of political text. The [Github repository is more complete](https://github.com/keyonvafa/tbip).\n",
    "\n",
    "See also [Tensorflow implementation](https://colab.research.google.com/drive/1_KkVI2lGtPdgsHSKDIMhSLCKkHvBQ4LO#scrollTo=BLgkfNNZUZv5) on which this notebook is based."
   ]
  },
  {
   "cell_type": "markdown",
   "metadata": {
    "id": "mV0fFe6HpZXb"
   },
   "source": [
    "The [TBIP](https://www.aclweb.org/anthology/2020.acl-main.475/) is an unsupervised probabilistic topic model that analyzes texts to quantify the political positions of its authors. The model does not use political parties or votes, nor does it require any text labelled by ideology. Given a corpus of political text and the authors of each document, the TBIP estimates the latent political positions of the authors of texts and how per-topic word choice changes as a function of the political position of the author (\"ideological topics\"). [Refer to the paper for more information](https://www.aclweb.org/anthology/2020.acl-main.475/).\n"
   ]
  },
  {
   "cell_type": "markdown",
   "metadata": {
    "id": "bkhCDTQrprUf"
   },
   "source": [
    "## Getting started\n",
    "\n",
    "First, **make sure you are running this Colab using a GPU**. Go to the \"Runtime\" menu, and click \"Change runtime type\". If the \"Hardware accelerator\" is listed as \"None\" or \"TPU\", change to \"GPU\". Click \"Save\" and you're ready to go. Also, as described in the first cell, make sure this code is copied to your personal Google Drive."
   ]
  },
  {
   "cell_type": "markdown",
   "metadata": {
    "id": "JPs53S8AqFzu"
   },
   "source": [
    "## Install NumPyro \n",
    "\n",
    "[NumPyro](https://github.com/pyro-ppl/numpyro) is a probabilistic programming framework powered by JAX for autograd and JIT compilation to GPU/TPU/CPU.\n",
    "\n"
   ]
  },
  {
   "cell_type": "code",
   "execution_count": 1,
   "metadata": {
    "id": "iMkS4Z0bqFQx"
   },
   "outputs": [],
   "source": [
    "%%capture\n",
    "%pip install numpyro==0.10.1\n",
    "%pip install optax"
   ]
  },
  {
   "cell_type": "markdown",
   "metadata": {
    "id": "7WFN02jWqlhl"
   },
   "source": [
    "## Clone TBIP repository\n",
    "\n",
    "Below we clone the [Github repo for the TBIP](https://github.com/keyonvafa/tbip). This is where the data resides."
   ]
  },
  {
   "cell_type": "code",
   "execution_count": 2,
   "metadata": {
    "colab": {
     "base_uri": "https://localhost:8080/"
    },
    "id": "NqVYM2QLqkhy",
    "outputId": "5ba84573-59f4-49fe-a9d0-84db135f31c4"
   },
   "outputs": [
    {
     "name": "stdout",
     "output_type": "stream",
     "text": [
      "fatal: destination path 'tbip' already exists and is not an empty directory.\n"
     ]
    }
   ],
   "source": [
    "! git clone https://github.com/keyonvafa/tbip"
   ]
  },
  {
   "cell_type": "markdown",
   "metadata": {
    "id": "WAzgvHSbqxuJ"
   },
   "source": [
    "## Hyperparameters and Initialization\n",
    "\n",
    "We start setting some hyperparameters. We fix the number of topics $K = 50$. We also set a random seed for reproducibility."
   ]
  },
  {
   "cell_type": "code",
   "execution_count": 3,
   "metadata": {
    "id": "TfFvLHY1q-yp"
   },
   "outputs": [],
   "source": [
    "from jax import random\n",
    "\n",
    "num_topics = 50\n",
    "rng_seed = random.PRNGKey(0)"
   ]
  },
  {
   "cell_type": "markdown",
   "metadata": {
    "id": "K8bzToM9rJxl"
   },
   "source": [
    "The next cell provides the data directory. The directory in the cell below links to speeches from the 114th Senate session from the `tbip` repo.\n",
    "\n",
    "To use your own corpus, upload the following four files to the Colab working directory:\n",
    "\n",
    "* `counts.npz`: a `[num_documents, num_words]` [sparse CSR matrix](https://docs.scipy.org/doc/scipy-0.14.0/reference/generated/scipy.sparse.csr_matrix.html) containing the word counts for each document.\n",
    "* `author_indices.npy`: a `[num_documents]` vector where each entry is an integer in the set `{0, 1, ..., num_authors - 1}`, indicating the author of the corresponding document in `counts.npz`.\n",
    "* `vocabulary.txt`: a `[num_words]`-length file where each line denotes the corresponding word in the vocabulary.\n",
    "* `author_map.txt`: a `[num_authors]`-length file where each line denotes the name of an author in the corpus.\n",
    "\n",
    "See [Senate speech clean data](https://github.com/keyonvafa/tbip/tree/master/data/senate-speeches-114/clean) for an example of what the four files look like for Senate speeches. [Our setup script](https://github.com/keyonvafa/tbip/blob/master/setup/senate_speeches_to_bag_of_words.py) \n",
    "contains example code for creating the four files from unprocessed data for Senate speeches.\n",
    "\n",
    "**IMPORTANT:** If you are using your own corpus, change the following line to `data_dir = '.'` after uploading the four files to the Colab working directory.\n"
   ]
  },
  {
   "cell_type": "code",
   "execution_count": 4,
   "metadata": {
    "id": "X7M-44MgrONy"
   },
   "outputs": [],
   "source": [
    "from scipy import sparse\n",
    "import jax\n",
    "import jax.numpy as jnp\n",
    "import numpy as np\n",
    "\n",
    "dataPath = \"tbip/data/senate-speeches-114/clean/\"\n",
    "\n",
    "# Load data\n",
    "author_indices = jax.device_put(\n",
    "    jnp.load(dataPath + \"author_indices.npy\"), jax.devices(\"gpu\")[0]\n",
    ")\n",
    "\n",
    "counts = sparse.load_npz(dataPath + \"counts.npz\")\n",
    "\n",
    "with open(dataPath + \"vocabulary.txt\", \"r\") as f:\n",
    "    vocabulary = f.readlines()\n",
    "\n",
    "with open(dataPath + \"author_map.txt\", \"r\") as f:\n",
    "    author_map = f.readlines()\n",
    "\n",
    "author_map = np.array(author_map)\n",
    "\n",
    "num_authors = int(author_indices.max() + 1)\n",
    "num_documents, num_words = counts.shape"
   ]
  },
  {
   "cell_type": "markdown",
   "metadata": {
    "id": "Si3avI3CrTBf"
   },
   "source": [
    "[In the paper](https://www.aclweb.org/anthology/2020.acl-main.475/), the parameters are pre-initialized with [Poisson factorization](https://arxiv.org/abs/1311.1704). Most of the time, we find this doesn't make a big difference for the learned ideal points, but it helps to interpret the ideological topics. \n",
    "\n",
    "Below, we initialize with Scikit-Learn's non-negative matrix factorization (NMF) implementation. Although we find that Poisson factorization learns more interpretable topics, we use Scikit-Learn's NMF implementation here because it is faster. To use Poisson factorization, see the [code in the Github repo](https://github.com/keyonvafa/tbip/blob/master/setup/poisson_factorization.py). \n",
    "\n",
    "If you would like to skip this pre-initialization step, set `pre_initialize_parameters = False` in the cell below. (Pre-initialization is recommended.)"
   ]
  },
  {
   "cell_type": "code",
   "execution_count": 5,
   "metadata": {
    "id": "CEco12NLrkw4"
   },
   "outputs": [],
   "source": [
    "pre_initialize_parameters = True"
   ]
  },
  {
   "cell_type": "markdown",
   "metadata": {
    "id": "iPpoenFXrtcJ"
   },
   "source": [
    "If you are pre-initializing parameters, the following cell might take a minute or so."
   ]
  },
  {
   "cell_type": "code",
   "execution_count": 6,
   "metadata": {
    "id": "I-jdavQ7rpXM"
   },
   "outputs": [],
   "source": [
    "# Fit NMF to be used as initialization for TBIP\n",
    "from sklearn.decomposition import NMF\n",
    "\n",
    "if pre_initialize_parameters:\n",
    "    nmf_model = NMF(\n",
    "        n_components=num_topics, init=\"random\", random_state=0, max_iter=500\n",
    "    )\n",
    "    # Define initialization arrays\n",
    "    initial_document_loc = jnp.log(\n",
    "        jnp.array(np.float32(nmf_model.fit_transform(counts) + 1e-2))\n",
    "    )\n",
    "    initial_objective_topic_loc = jnp.log(\n",
    "        jnp.array(np.float32(nmf_model.components_ + 1e-2))\n",
    "    )\n",
    "else:\n",
    "    rng1, rng2 = random.split(rng_seed, 2)\n",
    "    initial_document_loc = random.normal(rng1, shape=(num_documents, num_topics))\n",
    "    initial_objective_topic_loc = random.normal(rng2, shape=(num_topics, num_words))"
   ]
  },
  {
   "cell_type": "markdown",
   "metadata": {
    "id": "n8SUSFpLuXRP"
   },
   "source": [
    "## Perform Inference\n",
    "\n",
    "We perform inference using [variational inference](https://arxiv.org/abs/1601.00670) with [reparameterization](https://arxiv.org/abs/1312.6114) [gradients](https://arxiv.org/abs/1401.4082). We provide a brief summary below, but encourage readers to [refer to the original paper](https://www.aclweb.org/anthology/2020.acl-main.475/) for a more complete overview.\n",
    "\n",
    "It is intractable to evaluate the posterior distribution $p(\\theta, \\beta, \\eta, x | y)$, so we approximate the posterior with a distribution $q_\\phi(\\theta, \\beta,\\eta,x)$, parameterized by $\\phi$. How do we set the values $\\phi$? We want to minimize the KL-Divergence between $q$ and the posterior, which is equivalent to maximizing the ELBO:\n",
    "$$\\mathbb{E}_{q_\\phi}[\\log p(y, \\theta, \\beta, \\eta, x) - \\log q_{\\phi}(\\theta, \\beta, \\eta, x)].$$\n",
    "We set the variational family to be the mean-field family, meaning the latent variables factorize over documents $d$, topics $k$, and authors $s$:\n",
    "$$q_\\phi(\\theta, \\beta, \\eta, x) = \\prod_{d,k,s} q(\\theta_d)q(\\beta_k)q(\\eta_k)q(x_s).$$\n",
    "We use lognormal factors for the positive variables and Gaussian factors for the real variables:\n",
    "$$q(\\theta_{dk}) = \\text{LogNormal}(\\mu_{\\theta_{dk}}\\sigma^2_{\\theta_{dk}})$$\n",
    "$$q(\\theta_{dv}) = \\text{LogNormal}(\\mu_{\\beta_{kv}}, \\sigma^2_{\\beta_{kv}})$$\n",
    "$$q(\\eta_{kv}) = \\mathcal{N}(\\mu_{\\eta_{kv}}, \\sigma^2_{\\eta_{kv}})$$\n",
    "$$q(x_s) = \\mathcal{N}(\\mu_{x_s}, \\sigma^2_{x_s}).$$\n",
    "\n",
    "Thus, our goal is to maximize the ELBO with respect to $\\phi = \\{\\mu_\\theta, \\sigma_\\theta, \\mu_\\beta, \\sigma_\\beta,\\mu_\\eta, \\sigma_\\eta, \\mu_x, \\sigma_x\\}$. \n",
    "\n",
    "In the cell below, we define the model and the variational family (guide)."
   ]
  },
  {
   "cell_type": "code",
   "execution_count": 7,
   "metadata": {
    "id": "iRayId2goohr"
   },
   "outputs": [],
   "source": [
    "from numpyro import plate, sample, param\n",
    "import numpyro.distributions as dist\n",
    "from numpyro.distributions import constraints\n",
    "\n",
    "# Define the model and variational family\n",
    "\n",
    "\n",
    "class TBIP:\n",
    "    def __init__(self, N, D, K, V, batch_size, init_mu_theta=None, init_mu_beta=None):\n",
    "        self.N = N  # number of people\n",
    "        self.D = D  # number of documents\n",
    "        self.K = K  # number of topics\n",
    "        self.V = V  # number of words in vocabulary\n",
    "        self.batch_size = batch_size  # number of documents in a batch\n",
    "\n",
    "        if init_mu_theta is None:\n",
    "            init_mu_theta = jnp.zeros([D, K])\n",
    "        else:\n",
    "            self.init_mu_theta = init_mu_theta\n",
    "\n",
    "        if init_mu_beta is None:\n",
    "            init_mu_beta = jnp.zeros([K, V])\n",
    "        else:\n",
    "            self.init_mu_beta = init_mu_beta\n",
    "\n",
    "    def model(self, Y_batch, d_batch, i_batch):\n",
    "        with plate(\"i\", self.N):\n",
    "            # Sample the per-unit latent variables (ideal points)\n",
    "            x = sample(\"x\", dist.Normal())\n",
    "\n",
    "        with plate(\"k\", size=self.K, dim=-2):\n",
    "            with plate(\"k_v\", size=self.V, dim=-1):\n",
    "                beta = sample(\"beta\", dist.Gamma(0.3, 0.3))\n",
    "                eta = sample(\"eta\", dist.Normal())\n",
    "\n",
    "        with plate(\"d\", size=self.D, subsample_size=self.batch_size, dim=-2):\n",
    "            with plate(\"d_k\", size=self.K, dim=-1):\n",
    "                # Sample document-level latent variables (topic intensities)\n",
    "                theta = sample(\"theta\", dist.Gamma(0.3, 0.3))\n",
    "\n",
    "            # Compute Poisson rates for each word\n",
    "            P = jnp.sum(\n",
    "                jnp.expand_dims(theta, 2)\n",
    "                * jnp.expand_dims(beta, 0)\n",
    "                * jnp.exp(\n",
    "                    jnp.expand_dims(x[i_batch], (1, 2)) * jnp.expand_dims(eta, 0)\n",
    "                ),\n",
    "                1,\n",
    "            )\n",
    "\n",
    "            with plate(\"v\", size=self.V, dim=-1):\n",
    "                # Sample observed words\n",
    "                sample(\"Y_batch\", dist.Poisson(P), obs=Y_batch)\n",
    "\n",
    "    def guide(self, Y_batch, d_batch, i_batch):\n",
    "        # This defines variational family. Notice that each of the latent variables\n",
    "        # defined in the sample statements in the model above has a corresponding\n",
    "        # sample statement in the guide. The guide is responsible for providing\n",
    "        # variational parameters for each of these latent variables.\n",
    "\n",
    "        # Also notice it is required that model and the guide have the same call.\n",
    "\n",
    "        mu_x = param(\n",
    "            \"mu_x\", init_value=-1 + 2 * random.uniform(random.PRNGKey(1), (self.N,))\n",
    "        )\n",
    "        sigma_x = param(\n",
    "            \"sigma_y\", init_value=jnp.ones([self.N]), constraint=constraints.positive\n",
    "        )\n",
    "\n",
    "        mu_eta = param(\n",
    "            \"mu_eta\", init_value=random.normal(random.PRNGKey(2), (self.K, self.V))\n",
    "        )\n",
    "        sigma_eta = param(\n",
    "            \"sigma_eta\",\n",
    "            init_value=jnp.ones([self.K, self.V]),\n",
    "            constraint=constraints.positive,\n",
    "        )\n",
    "\n",
    "        mu_theta = param(\"mu_theta\", init_value=self.init_mu_theta)\n",
    "        sigma_theta = param(\n",
    "            \"sigma_theta\",\n",
    "            init_value=jnp.ones([self.D, self.K]),\n",
    "            constraint=constraints.positive,\n",
    "        )\n",
    "\n",
    "        mu_beta = param(\"mu_beta\", init_value=self.init_mu_beta)\n",
    "        sigma_beta = param(\n",
    "            \"sigma_beta\",\n",
    "            init_value=jnp.ones([self.K, self.V]),\n",
    "            constraint=constraints.positive,\n",
    "        )\n",
    "\n",
    "        with plate(\"i\", self.N):\n",
    "            sample(\"x\", dist.Normal(mu_x, sigma_x))\n",
    "\n",
    "        with plate(\"k\", size=self.K, dim=-2):\n",
    "            with plate(\"k_v\", size=self.V, dim=-1):\n",
    "                sample(\"beta\", dist.LogNormal(mu_beta, sigma_beta))\n",
    "                sample(\"eta\", dist.Normal(mu_eta, sigma_eta))\n",
    "\n",
    "        with plate(\"d\", size=self.D, subsample_size=self.batch_size, dim=-2):\n",
    "            with plate(\"d_k\", size=self.K, dim=-1):\n",
    "                sample(\"theta\", dist.LogNormal(mu_theta[d_batch], sigma_theta[d_batch]))\n",
    "\n",
    "    def get_batch(self, rng, Y, author_indices):\n",
    "        # Helper functions to obtain a batch of data, convert from scipy.sparse\n",
    "        # to jax.numpy.array and move to gpu\n",
    "\n",
    "        D_batch = random.choice(rng, jnp.arange(self.D), shape=(self.batch_size,))\n",
    "        Y_batch = jax.device_put(jnp.array(Y[D_batch].toarray()), jax.devices(\"gpu\")[0])\n",
    "        D_batch = jax.device_put(D_batch, jax.devices(\"gpu\")[0])\n",
    "        I_batch = author_indices[D_batch]\n",
    "        return Y_batch, I_batch, D_batch"
   ]
  },
  {
   "cell_type": "markdown",
   "metadata": {
    "id": "5ImzSMzSviB3"
   },
   "source": [
    "## Initialization\n",
    "\n",
    "Below we initialize an instance of the TBIP model, and associated SVI object. The latter is used to compute the Evidence Lower Bound (ELBO) given current value of guide's parameters and current batch of data.\n",
    "\n",
    "We optimize the model using Adam with exponential decay of learning rate.  "
   ]
  },
  {
   "cell_type": "code",
   "execution_count": 8,
   "metadata": {
    "id": "LxGTUSTXoohs"
   },
   "outputs": [],
   "source": [
    "# Initialize the model\n",
    "from optax import adam, exponential_decay\n",
    "from numpyro.infer import SVI, TraceMeanField_ELBO\n",
    "from jax import jit\n",
    "\n",
    "num_steps = 50000\n",
    "batch_size = 512  # Large batches are recommended\n",
    "learning_rate = 0.01\n",
    "decay_rate = 0.01\n",
    "\n",
    "tbip = TBIP(\n",
    "    N=num_authors,\n",
    "    D=num_documents,\n",
    "    K=num_topics,\n",
    "    V=num_words,\n",
    "    batch_size=batch_size,\n",
    "    init_mu_theta=initial_document_loc,\n",
    "    init_mu_beta=initial_objective_topic_loc,\n",
    ")\n",
    "\n",
    "svi_batch = SVI(\n",
    "    model=tbip.model,\n",
    "    guide=tbip.guide,\n",
    "    optim=adam(exponential_decay(learning_rate, num_steps, decay_rate)),\n",
    "    loss=TraceMeanField_ELBO(),\n",
    ")\n",
    "\n",
    "# Compile update function for faster training\n",
    "svi_batch_update = jit(svi_batch.update)\n",
    "\n",
    "# Get initial batch. This informs the dimension of arrays and ensures they are\n",
    "# consistent with dimensions (N, D, K, V) defined above.\n",
    "Y_batch, I_batch, D_batch = tbip.get_batch(random.PRNGKey(1), counts, author_indices)\n",
    "\n",
    "# Initialize the parameters using initial batch\n",
    "svi_state = svi_batch.init(\n",
    "    random.PRNGKey(0), Y_batch=Y_batch, d_batch=D_batch, i_batch=I_batch\n",
    ")"
   ]
  },
  {
   "cell_type": "code",
   "execution_count": 9,
   "metadata": {
    "id": "RQfTWq9sxmxw"
   },
   "outputs": [],
   "source": [
    "# @title Run this cell to create helper function for printing topics\n",
    "\n",
    "\n",
    "def get_topics(\n",
    "    neutral_mean, negative_mean, positive_mean, vocabulary, print_to_terminal=True\n",
    "):\n",
    "    num_topics, num_words = neutral_mean.shape\n",
    "    words_per_topic = 10\n",
    "    top_neutral_words = np.argsort(-neutral_mean, axis=1)\n",
    "    top_negative_words = np.argsort(-negative_mean, axis=1)\n",
    "    top_positive_words = np.argsort(-positive_mean, axis=1)\n",
    "    topic_strings = []\n",
    "    for topic_idx in range(num_topics):\n",
    "        neutral_start_string = \"Neutral  {}:\".format(topic_idx)\n",
    "        neutral_row = [\n",
    "            vocabulary[word] for word in top_neutral_words[topic_idx, :words_per_topic]\n",
    "        ]\n",
    "        neutral_row_string = \", \".join(neutral_row)\n",
    "        neutral_string = \" \".join([neutral_start_string, neutral_row_string])\n",
    "\n",
    "        positive_start_string = \"Positive {}:\".format(topic_idx)\n",
    "        positive_row = [\n",
    "            vocabulary[word] for word in top_positive_words[topic_idx, :words_per_topic]\n",
    "        ]\n",
    "        positive_row_string = \", \".join(positive_row)\n",
    "        positive_string = \" \".join([positive_start_string, positive_row_string])\n",
    "\n",
    "        negative_start_string = \"Negative {}:\".format(topic_idx)\n",
    "        negative_row = [\n",
    "            vocabulary[word] for word in top_negative_words[topic_idx, :words_per_topic]\n",
    "        ]\n",
    "        negative_row_string = \", \".join(negative_row)\n",
    "        negative_string = \" \".join([negative_start_string, negative_row_string])\n",
    "\n",
    "        if print_to_terminal:\n",
    "            topic_strings.append(negative_string)\n",
    "            topic_strings.append(neutral_string)\n",
    "            topic_strings.append(positive_string)\n",
    "            topic_strings.append(\"==========\")\n",
    "        else:\n",
    "            topic_strings.append(\n",
    "                \"  \\n\".join([negative_string, neutral_string, positive_string])\n",
    "            )\n",
    "\n",
    "    if print_to_terminal:\n",
    "        all_topics = \"{}\\n\".format(np.array(topic_strings))\n",
    "    else:\n",
    "        all_topics = np.array(topic_strings)\n",
    "    return all_topics"
   ]
  },
  {
   "cell_type": "markdown",
   "metadata": {
    "id": "vBzuncDP0NN_"
   },
   "source": [
    "## Execute Training\n",
    "The code above was creating the model; below we actually run training. You can adjust the number of steps to train (`num_steps`, defined above) and the frequency at which to print the ELBO (`print_steps`, defined below).\n",
    "\n",
    "Here, we run our training loop. Topic summaries and ordered ideal points will print every 2500 steps. Typically in our experiments it takes 15,000 steps or so to begin seeing sensible results, but of course this depends on the corpus. These sensible results should be reached within a half hour. For the default corpus of Senate speeches, it should take less than 2 hours to complete 30,000 training steps (which is the default `num_steps`). "
   ]
  },
  {
   "cell_type": "code",
   "execution_count": 10,
   "metadata": {
    "colab": {
     "base_uri": "https://localhost:8080/"
    },
    "id": "xoTt8vn8ooht",
    "outputId": "eec708bc-cbd5-4d06-945c-79b06e4b6dc2"
   },
   "outputs": [
    {
     "name": "stderr",
     "output_type": "stream",
     "text": [
      "Init loss: 14323.9385; Avg loss (last 100 iter):   953.5815:   5%|▍         | 2499/50000 [03:47<1:11:33, 11.06it/s]/usr/local/lib/python3.7/dist-packages/jax/_src/numpy/lax_numpy.py:3327: UserWarning: 'kind' argument to argsort is ignored; only 'stable' sorts are supported.\n",
      "  warnings.warn(\"'kind' argument to argsort is ignored; only 'stable' sorts \"\n",
      "Init loss: 14323.9385; Avg loss (last 100 iter):   634.0942: 100%|██████████| 50000/50000 [1:17:57<00:00, 10.69it/s]\n"
     ]
    }
   ],
   "source": [
    "# Run SVI\n",
    "from tqdm import tqdm\n",
    "import pandas as pd\n",
    "\n",
    "print_steps = 100\n",
    "print_intermediate_results = False\n",
    "\n",
    "rngs = random.split(random.PRNGKey(2), num_steps)\n",
    "losses = []\n",
    "pbar = tqdm(range(num_steps))\n",
    "\n",
    "\n",
    "for step in pbar:\n",
    "    Y_batch, I_batch, D_batch = tbip.get_batch(rngs[step], counts, author_indices)\n",
    "    svi_state, loss = svi_batch_update(\n",
    "        svi_state, Y_batch=Y_batch, d_batch=D_batch, i_batch=I_batch\n",
    "    )\n",
    "\n",
    "    loss = loss / counts.shape[0]\n",
    "    losses.append(loss)\n",
    "    if step % print_steps == 0 or step == num_steps - 1:\n",
    "        pbar.set_description(\n",
    "            \"Init loss: \"\n",
    "            + \"{:10.4f}\".format(jnp.array(losses[0]))\n",
    "            + f\"; Avg loss (last {print_steps} iter): \"\n",
    "            + \"{:10.4f}\".format(jnp.array(losses[-100:]).mean())\n",
    "        )\n",
    "\n",
    "    if (step + 1) % 2500 == 0 or step == num_steps - 1:\n",
    "        # Save intermediate results\n",
    "        estimated_params = svi_batch.get_params(svi_state)\n",
    "\n",
    "        neutral_mean = (\n",
    "            estimated_params[\"mu_beta\"] + estimated_params[\"sigma_beta\"] ** 2 / 2\n",
    "        )\n",
    "\n",
    "        positive_mean = (\n",
    "            estimated_params[\"mu_beta\"]\n",
    "            + estimated_params[\"mu_eta\"]\n",
    "            + (estimated_params[\"sigma_beta\"] ** 2 + estimated_params[\"sigma_eta\"] ** 2)\n",
    "            / 2\n",
    "        )\n",
    "\n",
    "        negative_mean = (\n",
    "            estimated_params[\"mu_beta\"]\n",
    "            - estimated_params[\"mu_eta\"]\n",
    "            + (estimated_params[\"sigma_beta\"] ** 2 + estimated_params[\"sigma_eta\"] ** 2)\n",
    "            / 2\n",
    "        )\n",
    "\n",
    "        np.save(\"neutral_topic_mean.npy\", neutral_mean)\n",
    "        np.save(\"negative_topic_mean.npy\", positive_mean)\n",
    "        np.save(\"positive_topic_mean.npy\", negative_mean)\n",
    "\n",
    "        topics = get_topics(neutral_mean, positive_mean, negative_mean, vocabulary)\n",
    "\n",
    "        with open(\"topics.txt\", \"w\") as f:\n",
    "            print(topics, file=f)\n",
    "\n",
    "        authors = pd.DataFrame(\n",
    "            {\"name\": author_map, \"ideal_point\": np.array(estimated_params[\"mu_x\"])}\n",
    "        )\n",
    "        authors.to_csv(\"authors.csv\")\n",
    "\n",
    "        if print_intermediate_results:\n",
    "            print(f\"Results after {step} steps.\")\n",
    "            print(topics)\n",
    "            sorted_authors = \"Authors sorted by their ideal points: \" + \",\".join(\n",
    "                list(authors.sort_values(\"ideal_point\")[\"name\"])\n",
    "            )\n",
    "            print(sorted_authors.replace(\"\\n\", \" \"))"
   ]
  },
  {
   "cell_type": "code",
   "execution_count": 11,
   "metadata": {
    "id": "XL9A29cFooht"
   },
   "outputs": [],
   "source": [
    "import os\n",
    "import matplotlib.pyplot as plt\n",
    "import seaborn as sns\n",
    "\n",
    "neutral_topic_mean = np.load(\"neutral_topic_mean.npy\")\n",
    "negative_topic_mean = np.load(\"negative_topic_mean.npy\")\n",
    "positive_topic_mean = np.load(\"positive_topic_mean.npy\")\n",
    "authors = pd.read_csv(\"authors.csv\")\n",
    "authors[\"name\"] = authors[\"name\"].str.replace(\"\\n\", \"\")"
   ]
  },
  {
   "cell_type": "markdown",
   "metadata": {
    "id": "o-Om5Qk31ENx"
   },
   "source": [
    "For example, here is a graph of the learned ideal points. We don't label each point because there are too many to plot. Below we select some authors to label."
   ]
  },
  {
   "cell_type": "code",
   "execution_count": 12,
   "metadata": {
    "colab": {
     "base_uri": "https://localhost:8080/",
     "height": 183
    },
    "id": "1J8Sw4-7oohu",
    "outputId": "dbf8acf0-db94-4814-c6be-c370b6b116f5"
   },
   "outputs": [
    {
     "data": {
      "image/png": "[encoded data removed]",
      "text/plain": [
       "<Figure size 864x72 with 1 Axes>"
      ]
     },
     "metadata": {},
     "output_type": "display_data"
    }
   ],
   "source": [
    "selected_authors = np.array(\n",
    "    [\n",
    "        \"Dean Heller (R)\",\n",
    "        \"Bernard Sanders (I)\",\n",
    "        \"Elizabeth Warren (D)\",\n",
    "        \"Charles Schumer (D)\",\n",
    "        \"Susan Collins (R)\",\n",
    "        \"Marco Rubio (R)\",\n",
    "        \"John Mccain (R)\",\n",
    "        \"Ted Cruz (R)\",\n",
    "    ]\n",
    ")\n",
    "\n",
    "sns.set(style=\"whitegrid\")\n",
    "fig = plt.figure(figsize=(12, 1))\n",
    "ax = plt.axes([0, 0, 1, 1], frameon=False)\n",
    "for index in range(authors.shape[0]):\n",
    "    ax.scatter(authors[\"ideal_point\"][index], 0, c=\"black\", s=20)\n",
    "    if authors[\"name\"][index] in selected_authors:\n",
    "        ax.annotate(\n",
    "            author_map[index],\n",
    "            xy=(authors[\"ideal_point\"][index], 0.0),\n",
    "            xytext=(authors[\"ideal_point\"][index], 0),\n",
    "            rotation=30,\n",
    "            size=14,\n",
    "        )\n",
    "ax.set_yticks([])\n",
    "plt.show()"
   ]
  },
  {
   "cell_type": "markdown",
   "metadata": {
    "id": "qnVQbe7l2gQG"
   },
   "source": [
    "## Automatic guide generation\n",
    "\n",
    "Above, for pedagogical reasons, we defined the guide (i.e. Variational Family) manually, making sure it is identical to that descibed in the original paper. \n",
    "\n",
    "However, manually defining the guide is often unnecessary as NumPyro contains a [module](https://num.pyro.ai/en/stable/autoguide.html#id8) that enables automatic guide generation based on the model provided.\n",
    "\n",
    "In our case it turns out that `AutoNormal` creates a guide that is identical to the one we manually defined above. Specifically it first transform variables to belong to unrestricted space of real numbers. For example, by applying the log transformation to those variables that are restricted to be non-negative (document locations $\\theta_d$ and objective topic locations $\\beta_j$). Then it uses independent Normal distribution as a guide for each transformed distribution.\n",
    "\n",
    "In the cell below we verify that the guide generated by `AutoNormal` is in fact identical to the guide manually defined above as a part of the TBIP class."
   ]
  },
  {
   "cell_type": "code",
   "execution_count": 13,
   "metadata": {
    "id": "DvUOdaVKu-1k"
   },
   "outputs": [],
   "source": [
    "from numpyro.infer.autoguide import AutoNormal\n",
    "\n",
    "\n",
    "def create_svi_object(guide):\n",
    "    svi_object = SVI(\n",
    "        model=tbip.model,\n",
    "        guide=guide,\n",
    "        optim=adam(exponential_decay(learning_rate, num_steps, decay_rate)),\n",
    "        loss=TraceMeanField_ELBO(),\n",
    "    )\n",
    "\n",
    "    Y_batch, I_batch, D_batch = tbip.get_batch(\n",
    "        random.PRNGKey(1), counts, author_indices\n",
    "    )\n",
    "\n",
    "    svi_state = svi_batch.init(\n",
    "        random.PRNGKey(0), Y_batch=Y_batch, d_batch=D_batch, i_batch=I_batch\n",
    "    )\n",
    "\n",
    "    return svi_state\n",
    "\n",
    "\n",
    "# This state uses the guide defined manually above\n",
    "svi_state_manualguide = create_svi_object(guide=tbip.guide)\n",
    "\n",
    "# Now let's create this object but using AutoNormal guide. We just need to ensure that\n",
    "# parameters are initialized as above.\n",
    "autoguide = AutoNormal(\n",
    "    model=tbip.model,\n",
    "    init_loc_fn={\"beta\": initial_objective_topic_loc, \"theta\": initial_document_loc},\n",
    ")\n",
    "svi_state_autoguide = create_svi_object(guide=autoguide)\n",
    "\n",
    "\n",
    "# Assert that the keys in the optimizer states are identical\n",
    "assert svi_state_manualguide[0][1][0].keys() == svi_state_autoguide[0][1][0].keys()\n",
    "\n",
    "# Assert that the values in the optimizer states are identical\n",
    "for key in svi_state_manualguide[0][1][0].keys():\n",
    "    assert jnp.all(\n",
    "        svi_state_manualguide[0][1][0][key] == svi_state_autoguide[0][1][0][key]\n",
    "    )"
   ]
  }
 ],
 "metadata": {
  "accelerator": "GPU",
  "colab": {
   "collapsed_sections": [],
   "provenance": []
  },
  "gpuClass": "premium",
  "kernelspec": {
   "display_name": "Python 3",
   "language": "python",
   "name": "python3"
  },
  "language_info": {
   "codemirror_mode": {
    "name": "ipython",
    "version": 3
   },
   "file_extension": ".py",
   "mimetype": "text/x-python",
   "name": "python",
   "nbconvert_exporter": "python",
   "pygments_lexer": "ipython3",
   "version": "3.8.8"
  },
  "vscode": {
   "interpreter": {
    "hash": "72bfc691e125b99acbc6d80c2190d4963aecde9ca99ebcb34dfd45ffa5b3f8fc"
   }
  }
 },
 "nbformat": 4,
 "nbformat_minor": 4
}
